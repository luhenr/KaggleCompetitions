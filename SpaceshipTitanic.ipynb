{
  "cells": [
    {
      "cell_type": "markdown",
      "source": [
        "# Tratamento"
      ],
      "metadata": {
        "id": "pFVyLUcrLZM7"
      }
    },
    {
      "cell_type": "code",
      "source": [
        "!pip3 install catboost"
      ],
      "metadata": {
        "id": "wXcdMuXILsPY"
      },
      "execution_count": null,
      "outputs": []
    },
    {
      "cell_type": "code",
      "source": [
        "import numpy as np\n",
        "import pandas as pd\n",
        "import seaborn as sns\n",
        "from sklearn.svm import SVC\n",
        "from sklearn.naive_bayes import GaussianNB\n",
        "from sklearn.linear_model import LogisticRegression\n",
        "from sklearn.neighbors import KNeighborsClassifier\n",
        "from sklearn.tree import DecisionTreeClassifier\n",
        "from sklearn.ensemble import RandomForestClassifier, GradientBoostingClassifier, AdaBoostClassifier, StackingClassifier\n",
        "from xgboost import XGBClassifier\n",
        "from catboost import CatBoostClassifier\n",
        "from lightgbm import LGBMClassifier\n",
        "from sklearn.impute import SimpleImputer\n",
        "from sklearn.model_selection import train_test_split, GridSearchCV, RandomizedSearchCV\n",
        "from sklearn.metrics import accuracy_score, f1_score, recall_score, precision_score, confusion_matrix\n",
        "from sklearn.preprocessing import LabelEncoder, OneHotEncoder, StandardScaler, MinMaxScaler"
      ],
      "metadata": {
        "id": "23rKFGLeLd6i"
      },
      "execution_count": null,
      "outputs": []
    },
    {
      "cell_type": "code",
      "source": [
        "train_df = pd.read_csv('/content/train.csv')\n",
        "test_df = pd.read_csv('/content/test.csv')"
      ],
      "metadata": {
        "id": "K8gWVB04L1t0"
      },
      "execution_count": null,
      "outputs": []
    },
    {
      "cell_type": "code",
      "source": [
        "def passengerid_new_features(df):\n",
        "    \n",
        "    df[\"Group\"] = df[\"PassengerId\"].apply(lambda x: x.split(\"_\")[0])\n",
        "    df[\"Member\"] =df[\"PassengerId\"].apply(lambda x: x.split(\"_\")[1])\n",
        "    \n",
        "    x = df.groupby(\"Group\")[\"Member\"].count().sort_values()\n",
        "    \n",
        "    y = set(x[x>1].index)\n",
        "    \n",
        "    df[\"Travelling_Solo\"] = df[\"Group\"].apply(lambda x: x not in y)\n",
        "    \n",
        "    df[\"Group_Size\"]=0\n",
        "    for i in x.items():\n",
        "        df.loc[df[\"Group\"]==i[0],\"Group_Size\"]=i[1]"
      ],
      "metadata": {
        "id": "YtMCS7p7L-00"
      },
      "execution_count": null,
      "outputs": []
    },
    {
      "cell_type": "code",
      "source": [
        "passengerid_new_features(train_df)\n",
        "passengerid_new_features(test_df)"
      ],
      "metadata": {
        "id": "j23Y0RRcM3Sq"
      },
      "execution_count": null,
      "outputs": []
    },
    {
      "cell_type": "code",
      "source": [
        "train_df.drop(columns=[\"Group\",\"Member\"],inplace=True)\n",
        "test_df.drop(columns=[\"Group\",\"Member\"],inplace=True)"
      ],
      "metadata": {
        "id": "0dfo2KTkNOpX"
      },
      "execution_count": null,
      "outputs": []
    },
    {
      "cell_type": "code",
      "source": [
        "train_df[\"Cabin\"].head().to_frame()"
      ],
      "metadata": {
        "colab": {
          "base_uri": "https://localhost:8080/",
          "height": 206
        },
        "id": "9FENaIcdQbBN",
        "outputId": "ec6bfa23-ebce-4054-b663-2462d8f80257"
      },
      "execution_count": null,
      "outputs": [
        {
          "output_type": "execute_result",
          "data": {
            "text/plain": [
              "   Cabin\n",
              "0  B/0/P\n",
              "1  F/0/S\n",
              "2  A/0/S\n",
              "3  A/0/S\n",
              "4  F/1/S"
            ],
            "text/html": [
              "\n",
              "  <div id=\"df-2defa2e1-89e6-4ad3-ae9b-e9c79111f179\">\n",
              "    <div class=\"colab-df-container\">\n",
              "      <div>\n",
              "<style scoped>\n",
              "    .dataframe tbody tr th:only-of-type {\n",
              "        vertical-align: middle;\n",
              "    }\n",
              "\n",
              "    .dataframe tbody tr th {\n",
              "        vertical-align: top;\n",
              "    }\n",
              "\n",
              "    .dataframe thead th {\n",
              "        text-align: right;\n",
              "    }\n",
              "</style>\n",
              "<table border=\"1\" class=\"dataframe\">\n",
              "  <thead>\n",
              "    <tr style=\"text-align: right;\">\n",
              "      <th></th>\n",
              "      <th>Cabin</th>\n",
              "    </tr>\n",
              "  </thead>\n",
              "  <tbody>\n",
              "    <tr>\n",
              "      <th>0</th>\n",
              "      <td>B/0/P</td>\n",
              "    </tr>\n",
              "    <tr>\n",
              "      <th>1</th>\n",
              "      <td>F/0/S</td>\n",
              "    </tr>\n",
              "    <tr>\n",
              "      <th>2</th>\n",
              "      <td>A/0/S</td>\n",
              "    </tr>\n",
              "    <tr>\n",
              "      <th>3</th>\n",
              "      <td>A/0/S</td>\n",
              "    </tr>\n",
              "    <tr>\n",
              "      <th>4</th>\n",
              "      <td>F/1/S</td>\n",
              "    </tr>\n",
              "  </tbody>\n",
              "</table>\n",
              "</div>\n",
              "      <button class=\"colab-df-convert\" onclick=\"convertToInteractive('df-2defa2e1-89e6-4ad3-ae9b-e9c79111f179')\"\n",
              "              title=\"Convert this dataframe to an interactive table.\"\n",
              "              style=\"display:none;\">\n",
              "        \n",
              "  <svg xmlns=\"http://www.w3.org/2000/svg\" height=\"24px\"viewBox=\"0 0 24 24\"\n",
              "       width=\"24px\">\n",
              "    <path d=\"M0 0h24v24H0V0z\" fill=\"none\"/>\n",
              "    <path d=\"M18.56 5.44l.94 2.06.94-2.06 2.06-.94-2.06-.94-.94-2.06-.94 2.06-2.06.94zm-11 1L8.5 8.5l.94-2.06 2.06-.94-2.06-.94L8.5 2.5l-.94 2.06-2.06.94zm10 10l.94 2.06.94-2.06 2.06-.94-2.06-.94-.94-2.06-.94 2.06-2.06.94z\"/><path d=\"M17.41 7.96l-1.37-1.37c-.4-.4-.92-.59-1.43-.59-.52 0-1.04.2-1.43.59L10.3 9.45l-7.72 7.72c-.78.78-.78 2.05 0 2.83L4 21.41c.39.39.9.59 1.41.59.51 0 1.02-.2 1.41-.59l7.78-7.78 2.81-2.81c.8-.78.8-2.07 0-2.86zM5.41 20L4 18.59l7.72-7.72 1.47 1.35L5.41 20z\"/>\n",
              "  </svg>\n",
              "      </button>\n",
              "      \n",
              "  <style>\n",
              "    .colab-df-container {\n",
              "      display:flex;\n",
              "      flex-wrap:wrap;\n",
              "      gap: 12px;\n",
              "    }\n",
              "\n",
              "    .colab-df-convert {\n",
              "      background-color: #E8F0FE;\n",
              "      border: none;\n",
              "      border-radius: 50%;\n",
              "      cursor: pointer;\n",
              "      display: none;\n",
              "      fill: #1967D2;\n",
              "      height: 32px;\n",
              "      padding: 0 0 0 0;\n",
              "      width: 32px;\n",
              "    }\n",
              "\n",
              "    .colab-df-convert:hover {\n",
              "      background-color: #E2EBFA;\n",
              "      box-shadow: 0px 1px 2px rgba(60, 64, 67, 0.3), 0px 1px 3px 1px rgba(60, 64, 67, 0.15);\n",
              "      fill: #174EA6;\n",
              "    }\n",
              "\n",
              "    [theme=dark] .colab-df-convert {\n",
              "      background-color: #3B4455;\n",
              "      fill: #D2E3FC;\n",
              "    }\n",
              "\n",
              "    [theme=dark] .colab-df-convert:hover {\n",
              "      background-color: #434B5C;\n",
              "      box-shadow: 0px 1px 3px 1px rgba(0, 0, 0, 0.15);\n",
              "      filter: drop-shadow(0px 1px 2px rgba(0, 0, 0, 0.3));\n",
              "      fill: #FFFFFF;\n",
              "    }\n",
              "  </style>\n",
              "\n",
              "      <script>\n",
              "        const buttonEl =\n",
              "          document.querySelector('#df-2defa2e1-89e6-4ad3-ae9b-e9c79111f179 button.colab-df-convert');\n",
              "        buttonEl.style.display =\n",
              "          google.colab.kernel.accessAllowed ? 'block' : 'none';\n",
              "\n",
              "        async function convertToInteractive(key) {\n",
              "          const element = document.querySelector('#df-2defa2e1-89e6-4ad3-ae9b-e9c79111f179');\n",
              "          const dataTable =\n",
              "            await google.colab.kernel.invokeFunction('convertToInteractive',\n",
              "                                                     [key], {});\n",
              "          if (!dataTable) return;\n",
              "\n",
              "          const docLinkHtml = 'Like what you see? Visit the ' +\n",
              "            '<a target=\"_blank\" href=https://colab.research.google.com/notebooks/data_table.ipynb>data table notebook</a>'\n",
              "            + ' to learn more about interactive tables.';\n",
              "          element.innerHTML = '';\n",
              "          dataTable['output_type'] = 'display_data';\n",
              "          await google.colab.output.renderOutput(dataTable, element);\n",
              "          const docLink = document.createElement('div');\n",
              "          docLink.innerHTML = docLinkHtml;\n",
              "          element.appendChild(docLink);\n",
              "        }\n",
              "      </script>\n",
              "    </div>\n",
              "  </div>\n",
              "  "
            ]
          },
          "metadata": {},
          "execution_count": 209
        }
      ]
    },
    {
      "cell_type": "code",
      "source": [
        "def cabin_new_feature(df):\n",
        "    df[\"Cabin\"].fillna(\"np.nan/np.nan/np.nan\",inplace=True)\n",
        "    \n",
        "    df[\"Cabin_Deck\"] = df[\"Cabin\"].apply(lambda x: x.split(\"/\")[0])\n",
        "    df[\"Cabin_Number\"]  = df[\"Cabin\"].apply(lambda x: x.split(\"/\")[1])\n",
        "    df[\"Cabin_Side\"] = df[\"Cabin\"].apply(lambda x: x.split(\"/\")[2])\n",
        "    \n",
        "    cols = [\"Cabin_Deck\",\"Cabin_Number\",\"Cabin_Side\"]\n",
        "    df[cols]=df[cols].replace(\"np.nan\",np.nan)\n",
        "    \n",
        "    df[\"Cabin_Deck\"].fillna(df[\"Cabin_Deck\"].mode()[0],inplace=True)\n",
        "    df[\"Cabin_Side\"].fillna(df[\"Cabin_Side\"].mode()[0],inplace=True)\n",
        "    df[\"Cabin_Number\"].fillna(df[\"Cabin_Number\"].median(),inplace=True)"
      ],
      "metadata": {
        "id": "-lxT2pigNRKN"
      },
      "execution_count": null,
      "outputs": []
    },
    {
      "cell_type": "code",
      "source": [
        "cabin_new_feature(train_df)\n",
        "cabin_new_feature(test_df)"
      ],
      "metadata": {
        "id": "y_eidD5mNWar"
      },
      "execution_count": null,
      "outputs": []
    },
    {
      "cell_type": "code",
      "source": [
        "train_df[\"Cabin_Number\"]=train_df[\"Cabin_Number\"].astype(int)\n",
        "test_df[\"Cabin_Number\"]=test_df[\"Cabin_Number\"].astype(int)"
      ],
      "metadata": {
        "id": "2ZyFjlnmNXrT"
      },
      "execution_count": null,
      "outputs": []
    },
    {
      "cell_type": "code",
      "source": [
        "def cabin_regions(df):\n",
        "    df[\"Cabin_Region1\"] = (df[\"Cabin_Number\"]<300)\n",
        "    df[\"Cabin_Region2\"] = (df[\"Cabin_Number\"]>=300) & (df[\"Cabin_Number\"]<600)\n",
        "    df[\"Cabin_Region3\"] = (df[\"Cabin_Number\"]>=600) & (df[\"Cabin_Number\"]<900)\n",
        "    df[\"Cabin_Region4\"] = (df[\"Cabin_Number\"]>=900) & (df[\"Cabin_Number\"]<1200)\n",
        "    df[\"Cabin_Region5\"] = (df[\"Cabin_Number\"]>=1200) & (df[\"Cabin_Number\"]<1500)\n",
        "    df[\"Cabin_Region6\"] = (df[\"Cabin_Number\"]>=1500)"
      ],
      "metadata": {
        "id": "1KRIlrXJNbSD"
      },
      "execution_count": null,
      "outputs": []
    },
    {
      "cell_type": "code",
      "source": [
        "cabin_regions(train_df)\n",
        "cabin_regions(test_df)"
      ],
      "metadata": {
        "id": "T6ISEkTvNdNG"
      },
      "execution_count": null,
      "outputs": []
    },
    {
      "cell_type": "code",
      "source": [
        "train_df.drop(columns=[\"Cabin_Number\"],inplace=True)\n",
        "test_df.drop(columns=[\"Cabin_Number\"],inplace=True)"
      ],
      "metadata": {
        "id": "gyYS4lI1Nege"
      },
      "execution_count": null,
      "outputs": []
    },
    {
      "cell_type": "code",
      "source": [
        "def age_group(df):\n",
        "    age_group  = []\n",
        "    for i in df[\"Age\"]:\n",
        "        if i<=12:\n",
        "            age_group.append(\"Age_0-12\")\n",
        "        elif (i>12 and i<=18):\n",
        "            age_group.append(\"Age_0-18\")\n",
        "        elif (i>18 and i<=25):\n",
        "            age_group.append(\"Age_19-25\")\n",
        "        elif (i>25 and i<=32):\n",
        "            age_group.append(\"Age_26-32\")\n",
        "        elif (i>32 and i<=50):\n",
        "            age_group.append(\"Age_33_50\")\n",
        "        elif (i>50):\n",
        "            age_group.append(\"age_50+\")\n",
        "        else:\n",
        "            age_group.append(np.nan)\n",
        "        \n",
        "    df[\"Age Group\"] = age_group"
      ],
      "metadata": {
        "id": "0pP_kjKdNf3I"
      },
      "execution_count": null,
      "outputs": []
    },
    {
      "cell_type": "code",
      "source": [
        "age_group(train_df)\n",
        "age_group(test_df)"
      ],
      "metadata": {
        "id": "a-9AlQvlNkFC"
      },
      "execution_count": null,
      "outputs": []
    },
    {
      "cell_type": "code",
      "source": [
        "exp_cols = [\"RoomService\",\"FoodCourt\",\"ShoppingMall\",\"Spa\",\"VRDeck\"]\n",
        "\n",
        "def new_exp_features(df):\n",
        "    df[\"Total Expenditure\"] = df[exp_cols].sum(axis=1)\n",
        "    df[\"No Spending\"] = (df[\"Total Expenditure\"]==0)"
      ],
      "metadata": {
        "id": "NLeO208HNlH8"
      },
      "execution_count": null,
      "outputs": []
    },
    {
      "cell_type": "code",
      "source": [
        "new_exp_features(train_df)\n",
        "new_exp_features(test_df)"
      ],
      "metadata": {
        "id": "D08Ika4KNnzL"
      },
      "execution_count": null,
      "outputs": []
    },
    {
      "cell_type": "code",
      "source": [
        "def expenditure_category(df):\n",
        "    expense_category = []\n",
        "    \n",
        "    for i in df[\"Total Expenditure\"]:\n",
        "        if i==0:\n",
        "            expense_category.append(\"No Expense\")\n",
        "        elif (i>0 and i<=716):\n",
        "            expense_category.append(\"Low Expense\")\n",
        "        elif (i>716 and i<=1441):\n",
        "            expense_category.append(\"Medium Expense\")\n",
        "        elif (i>1441):\n",
        "            expense_category.append(\"High Expense\")\n",
        "    \n",
        "    df[\"Expenditure Category\"] = expense_category"
      ],
      "metadata": {
        "id": "gvv93V35No2a"
      },
      "execution_count": null,
      "outputs": []
    },
    {
      "cell_type": "code",
      "source": [
        "expenditure_category(train_df)\n",
        "expenditure_category(test_df)"
      ],
      "metadata": {
        "id": "72BI6lvLNsJU"
      },
      "execution_count": null,
      "outputs": []
    },
    {
      "cell_type": "code",
      "source": [
        "train_df.head()"
      ],
      "metadata": {
        "id": "2huDIeh6RluB"
      },
      "execution_count": null,
      "outputs": []
    },
    {
      "cell_type": "code",
      "source": [
        "cat_cols = train_df.select_dtypes(include=[\"object\",\"bool\"]).columns.tolist()\n",
        "cat_cols.remove(\"Transported\")\n",
        "num_cols = train_df.select_dtypes(include=[\"int\",\"float\"]).columns.tolist()"
      ],
      "metadata": {
        "id": "4ENiRwZPNtSu"
      },
      "execution_count": null,
      "outputs": []
    },
    {
      "cell_type": "code",
      "source": [
        "print(\"Categorical Columns:\",cat_cols)\n",
        "print(\"\\n\",\"-\"*120)\n",
        "print(\"\\nNumerical Columns:\",num_cols)"
      ],
      "metadata": {
        "id": "pQSW4TWyN8fo"
      },
      "execution_count": null,
      "outputs": []
    },
    {
      "cell_type": "code",
      "source": [
        "imputer1 = SimpleImputer(strategy=\"most_frequent\")\n",
        "imputer2 = SimpleImputer(strategy=\"median\") "
      ],
      "metadata": {
        "id": "VYeNcdmKN9p7"
      },
      "execution_count": null,
      "outputs": []
    },
    {
      "cell_type": "code",
      "source": [
        "def fill_missingno(df):\n",
        "    df[cat_cols] = imputer1.fit_transform(df[cat_cols])\n",
        "    df[num_cols] = imputer2.fit_transform(df[num_cols])"
      ],
      "metadata": {
        "id": "Ca3gxLU8ONPx"
      },
      "execution_count": null,
      "outputs": []
    },
    {
      "cell_type": "code",
      "source": [
        "fill_missingno(train_df)\n",
        "fill_missingno(test_df)"
      ],
      "metadata": {
        "id": "iloEx7ECOO72"
      },
      "execution_count": null,
      "outputs": []
    },
    {
      "cell_type": "code",
      "source": [
        "pass_df = test_df[[\"PassengerId\"]]"
      ],
      "metadata": {
        "id": "NLojFzoeOPk0"
      },
      "execution_count": null,
      "outputs": []
    },
    {
      "cell_type": "code",
      "source": [
        "cols = [\"PassengerId\",\"Cabin\",\"Name\"]\n",
        "train_df.drop(columns =cols, inplace=True)\n",
        "test_df.drop(columns=cols, inplace=True)"
      ],
      "metadata": {
        "id": "azvne1sbR-8L"
      },
      "execution_count": null,
      "outputs": []
    },
    {
      "cell_type": "code",
      "source": [
        "cols = ['RoomService','FoodCourt','ShoppingMall','Spa','VRDeck','Total Expenditure']\n",
        "\n",
        "for value in cols:\n",
        "    train_df[value] = np.log(1+train_df[value])\n",
        "    test_df[value]=np.log(1+test_df[value])"
      ],
      "metadata": {
        "id": "XpwRsJ2fOWhc"
      },
      "execution_count": null,
      "outputs": []
    },
    {
      "cell_type": "code",
      "source": [
        "cols = [\"CryoSleep\",\"VIP\",\"Travelling_Solo\",\"No Spending\",\"Cabin_Region1\",\"Cabin_Region2\",\"Cabin_Region3\",\"Cabin_Region4\",\n",
        "       \"Cabin_Region5\",\"Cabin_Region6\"]\n",
        "\n",
        "train_df[cols] = train_df[cols].astype(bool)\n",
        "test_df[cols] = test_df[cols].astype(bool)"
      ],
      "metadata": {
        "id": "bFqIzFl8OXLE"
      },
      "execution_count": null,
      "outputs": []
    },
    {
      "cell_type": "code",
      "source": [
        "nominal_cat_cols = [\"HomePlanet\",\"Destination\"]\n",
        "ordinal_cat_cols = [\"CryoSleep\",\"VIP\",\"Travelling_Solo\",\"Cabin_Deck\",\"Cabin_Side\",\"Cabin_Region1\",\"Cabin_Region2\",\n",
        "                    \"Cabin_Region3\",\"Cabin_Region4\",\"Cabin_Region5\",\"Cabin_Region6\",\"Age Group\",\"No Spending\",\n",
        "                    \"Expenditure Category\"]"
      ],
      "metadata": {
        "id": "WkkMxFJgOaj8"
      },
      "execution_count": null,
      "outputs": []
    },
    {
      "cell_type": "code",
      "source": [
        "enc = LabelEncoder()"
      ],
      "metadata": {
        "id": "U_D45YXwOdPs"
      },
      "execution_count": null,
      "outputs": []
    },
    {
      "cell_type": "code",
      "source": [
        "train_df[ordinal_cat_cols] = train_df[ordinal_cat_cols].apply(enc.fit_transform)\n",
        "test_df[ordinal_cat_cols] = test_df[ordinal_cat_cols].apply(enc.fit_transform)"
      ],
      "metadata": {
        "id": "LqOxwuwVOee-"
      },
      "execution_count": null,
      "outputs": []
    },
    {
      "cell_type": "code",
      "source": [
        "train_df = pd.get_dummies(train_df,columns=nominal_cat_cols)\n",
        "test_df = pd.get_dummies(test_df,columns=nominal_cat_cols)"
      ],
      "metadata": {
        "id": "lPp46AVVOgMK"
      },
      "execution_count": null,
      "outputs": []
    },
    {
      "cell_type": "code",
      "source": [
        "train_df[\"Transported\"].replace({False:0,True:1},inplace=True)"
      ],
      "metadata": {
        "id": "Q1E2WC1FOh2A"
      },
      "execution_count": null,
      "outputs": []
    },
    {
      "cell_type": "code",
      "source": [
        "X = train_df.drop(columns=[\"Transported\"])\n",
        "y = train_df[[\"Transported\"]]"
      ],
      "metadata": {
        "id": "j9B6-D9MOjHC"
      },
      "execution_count": null,
      "outputs": []
    },
    {
      "cell_type": "code",
      "source": [
        "scaler = StandardScaler()"
      ],
      "metadata": {
        "id": "N-VHXdCbOlBW"
      },
      "execution_count": null,
      "outputs": []
    },
    {
      "cell_type": "code",
      "source": [
        "X_scaled = scaler.fit_transform(X)\n",
        "test_df_scaled = scaler.fit_transform(test_df)"
      ],
      "metadata": {
        "id": "dM1FQoKCOmHm"
      },
      "execution_count": null,
      "outputs": []
    },
    {
      "cell_type": "code",
      "source": [
        "x_train,x_test,y_train,y_test = train_test_split(X,y,test_size=0.2,random_state=0)"
      ],
      "metadata": {
        "id": "N1KngjgKSWkq"
      },
      "execution_count": null,
      "outputs": []
    },
    {
      "cell_type": "code",
      "source": [
        "x_train1, x_test1, y_train1, y_test1 = train_test_split(X_scaled,y,test_size=0.2,random_state=0)"
      ],
      "metadata": {
        "id": "mJpBULm1SZ7e"
      },
      "execution_count": null,
      "outputs": []
    },
    {
      "cell_type": "code",
      "source": [
        "training_score = []\n",
        "testing_score = []"
      ],
      "metadata": {
        "id": "dNG7NNqjSbgt"
      },
      "execution_count": null,
      "outputs": []
    },
    {
      "cell_type": "code",
      "source": [
        "def model_prediction(model):\n",
        "    model.fit(x_train1,y_train1)\n",
        "    x_train_pred1 = model.predict(x_train1)\n",
        "    x_test_pred1 = model.predict(x_test1)\n",
        "    a = accuracy_score(y_train1,x_train_pred1)*100\n",
        "    b = accuracy_score(y_test1,x_test_pred1)*100\n",
        "    training_score.append(a)\n",
        "    testing_score.append(b)\n",
        "    \n",
        "    print(f\"Accuracy_Score of {model} model on Training Data is:\",a)\n",
        "    print(f\"Accuracy_Score of {model} model on Testing Data is:\",b)\n",
        "    print(\"\\n------------------------------------------------------------------------\")\n",
        "    print(f\"Precision Score of {model} model is:\",precision_score(y_test1,x_test_pred1))\n",
        "    print(f\"Recall Score of {model} model is:\",recall_score(y_test1,x_test_pred1))\n",
        "    print(f\"F1 Score of {model} model is:\",f1_score(y_test1,x_test_pred1))\n",
        "    print(\"\\n------------------------------------------------------------------------\")\n",
        "    print(f\"Confusion Matrix of {model} model is:\")\n",
        "    cm = confusion_matrix(y_test1,x_test_pred1)\n",
        "    sns.heatmap(cm,annot=True,fmt=\"g\",cmap=\"summer\")"
      ],
      "metadata": {
        "id": "TP93f1FcScQm"
      },
      "execution_count": null,
      "outputs": []
    },
    {
      "cell_type": "markdown",
      "source": [
        "# Modelos com escalonamento de valores"
      ],
      "metadata": {
        "id": "Q7gNhspuTFDu"
      }
    },
    {
      "cell_type": "markdown",
      "source": [
        "## Linear Regression"
      ],
      "metadata": {
        "id": "88dg0bIISmKt"
      }
    },
    {
      "cell_type": "code",
      "source": [
        "model_prediction(LogisticRegression())"
      ],
      "metadata": {
        "colab": {
          "base_uri": "https://localhost:8080/",
          "height": 496
        },
        "id": "KihwkIf7SpTY",
        "outputId": "a56afb99-b37c-4374-b945-3f67b9d2d084"
      },
      "execution_count": null,
      "outputs": [
        {
          "output_type": "stream",
          "name": "stderr",
          "text": [
            "/usr/local/lib/python3.8/dist-packages/sklearn/utils/validation.py:993: DataConversionWarning: A column-vector y was passed when a 1d array was expected. Please change the shape of y to (n_samples, ), for example using ravel().\n",
            "  y = column_or_1d(y, warn=True)\n"
          ]
        },
        {
          "output_type": "stream",
          "name": "stdout",
          "text": [
            "Accuracy_Score of LogisticRegression() model on Training Data is: 77.8688524590164\n",
            "Accuracy_Score of LogisticRegression() model on Testing Data is: 77.17078780908568\n",
            "\n",
            "------------------------------------------------------------------------\n",
            "Precision Score of LogisticRegression() model is: 0.7578040904198062\n",
            "Recall Score of LogisticRegression() model is: 0.8036529680365296\n",
            "F1 Score of LogisticRegression() model is: 0.7800554016620498\n",
            "\n",
            "------------------------------------------------------------------------\n",
            "Confusion Matrix of LogisticRegression() model is:\n"
          ]
        },
        {
          "output_type": "display_data",
          "data": {
            "text/plain": [
              "<Figure size 432x288 with 2 Axes>"
            ],
            "image/png": "[encoded data removed]"
          },
          "metadata": {
            "needs_background": "light"
          }
        }
      ]
    },
    {
      "cell_type": "markdown",
      "source": [
        "## kNN"
      ],
      "metadata": {
        "id": "EKbD1nbISwYd"
      }
    },
    {
      "cell_type": "code",
      "source": [
        "model_prediction(KNeighborsClassifier())"
      ],
      "metadata": {
        "colab": {
          "base_uri": "https://localhost:8080/",
          "height": 493
        },
        "id": "FLXsUh7TSx7p",
        "outputId": "a1a6fccb-7512-46c6-b362-86e8de686416"
      },
      "execution_count": null,
      "outputs": [
        {
          "output_type": "stream",
          "name": "stderr",
          "text": [
            "/usr/local/lib/python3.8/dist-packages/sklearn/neighbors/_classification.py:198: DataConversionWarning: A column-vector y was passed when a 1d array was expected. Please change the shape of y to (n_samples,), for example using ravel().\n",
            "  return self._fit(X, y)\n"
          ]
        },
        {
          "output_type": "stream",
          "name": "stdout",
          "text": [
            "Accuracy_Score of KNeighborsClassifier() model on Training Data is: 83.14639056658038\n",
            "Accuracy_Score of KNeighborsClassifier() model on Testing Data is: 75.50316273720529\n",
            "\n",
            "------------------------------------------------------------------------\n",
            "Precision Score of KNeighborsClassifier() model is: 0.7697841726618705\n",
            "Recall Score of KNeighborsClassifier() model is: 0.7328767123287672\n",
            "F1 Score of KNeighborsClassifier() model is: 0.7508771929824561\n",
            "\n",
            "------------------------------------------------------------------------\n",
            "Confusion Matrix of KNeighborsClassifier() model is:\n"
          ]
        },
        {
          "output_type": "display_data",
          "data": {
            "text/plain": [
              "<Figure size 432x288 with 2 Axes>"
            ],
            "image/png": "[encoded data removed]"
          },
          "metadata": {
            "needs_background": "light"
          }
        }
      ]
    },
    {
      "cell_type": "markdown",
      "source": [
        "## SVM"
      ],
      "metadata": {
        "id": "8a7Smo92S0Om"
      }
    },
    {
      "cell_type": "code",
      "source": [
        "model_prediction(SVC())"
      ],
      "metadata": {
        "colab": {
          "base_uri": "https://localhost:8080/",
          "height": 493
        },
        "id": "mwJ29yIcS26H",
        "outputId": "fe4afd1f-f7ff-4a9b-d00e-4ef586c85200"
      },
      "execution_count": null,
      "outputs": [
        {
          "output_type": "stream",
          "name": "stderr",
          "text": [
            "/usr/local/lib/python3.8/dist-packages/sklearn/utils/validation.py:993: DataConversionWarning: A column-vector y was passed when a 1d array was expected. Please change the shape of y to (n_samples, ), for example using ravel().\n",
            "  y = column_or_1d(y, warn=True)\n"
          ]
        },
        {
          "output_type": "stream",
          "name": "stdout",
          "text": [
            "Accuracy_Score of SVC() model on Training Data is: 81.8234109864826\n",
            "Accuracy_Score of SVC() model on Testing Data is: 79.700977573318\n",
            "\n",
            "------------------------------------------------------------------------\n",
            "Precision Score of SVC() model is: 0.7995418098510882\n",
            "Recall Score of SVC() model is: 0.7968036529680366\n",
            "F1 Score of SVC() model is: 0.7981703830760436\n",
            "\n",
            "------------------------------------------------------------------------\n",
            "Confusion Matrix of SVC() model is:\n"
          ]
        },
        {
          "output_type": "display_data",
          "data": {
            "text/plain": [
              "<Figure size 432x288 with 2 Axes>"
            ],
            "image/png": "[encoded data removed]"
          },
          "metadata": {
            "needs_background": "light"
          }
        }
      ]
    },
    {
      "cell_type": "markdown",
      "source": [
        "## Naive-Bayes"
      ],
      "metadata": {
        "id": "TaO8f--sS5TK"
      }
    },
    {
      "cell_type": "code",
      "source": [
        "model_prediction(GaussianNB())"
      ],
      "metadata": {
        "colab": {
          "base_uri": "https://localhost:8080/",
          "height": 493
        },
        "id": "l2dHsYnsS8MT",
        "outputId": "87c226ea-f9f9-4ed4-ab0c-29fa28317e34"
      },
      "execution_count": null,
      "outputs": [
        {
          "output_type": "stream",
          "name": "stderr",
          "text": [
            "/usr/local/lib/python3.8/dist-packages/sklearn/utils/validation.py:993: DataConversionWarning: A column-vector y was passed when a 1d array was expected. Please change the shape of y to (n_samples, ), for example using ravel().\n",
            "  y = column_or_1d(y, warn=True)\n"
          ]
        },
        {
          "output_type": "stream",
          "name": "stdout",
          "text": [
            "Accuracy_Score of GaussianNB() model on Training Data is: 73.94305435720449\n",
            "Accuracy_Score of GaussianNB() model on Testing Data is: 73.3755031627372\n",
            "\n",
            "------------------------------------------------------------------------\n",
            "Precision Score of GaussianNB() model is: 0.7779273216689099\n",
            "Recall Score of GaussianNB() model is: 0.6598173515981736\n",
            "F1 Score of GaussianNB() model is: 0.7140210006176654\n",
            "\n",
            "------------------------------------------------------------------------\n",
            "Confusion Matrix of GaussianNB() model is:\n"
          ]
        },
        {
          "output_type": "display_data",
          "data": {
            "text/plain": [
              "<Figure size 432x288 with 2 Axes>"
            ],
            "image/png": "[encoded data removed]"
          },
          "metadata": {
            "needs_background": "light"
          }
        }
      ]
    },
    {
      "cell_type": "markdown",
      "source": [
        "# Modelos sem escalonamento de valores"
      ],
      "metadata": {
        "id": "cTSmvSi_TJ9Y"
      }
    },
    {
      "cell_type": "code",
      "source": [
        "def model_prediction(model):\n",
        "    model.fit(x_train,y_train)\n",
        "    x_train_pred = model.predict(x_train)\n",
        "    x_test_pred = model.predict(x_test)\n",
        "    a = accuracy_score(y_train,x_train_pred)*100\n",
        "    b = accuracy_score(y_test,x_test_pred)*100\n",
        "    training_score.append(a)\n",
        "    testing_score.append(b)\n",
        "    \n",
        "    print(f\"Accuracy_Score of {model} model on Training Data is:\",a)\n",
        "    print(f\"Accuracy_Score of {model} model on Testing Data is:\",b)\n",
        "    print(\"\\n------------------------------------------------------------------------\")\n",
        "    print(f\"Precision Score of {model} model is:\",precision_score(y_test,x_test_pred))\n",
        "    print(f\"Recall Score of {model} model is:\",recall_score(y_test,x_test_pred))\n",
        "    print(f\"F1 Score of {model} model is:\",f1_score(y_test,x_test_pred))\n",
        "    print(\"\\n------------------------------------------------------------------------\")\n",
        "    print(f\"Confusion Matrix of {model} model is:\")\n",
        "    cm = confusion_matrix(y_test,x_test_pred)\n",
        "    sns.heatmap(cm,annot=True,fmt=\"g\",cmap=\"summer\")"
      ],
      "metadata": {
        "id": "qYyZIZ0KTM7y"
      },
      "execution_count": null,
      "outputs": []
    },
    {
      "cell_type": "markdown",
      "source": [
        "## Decision Tree"
      ],
      "metadata": {
        "id": "5hBjpxP7TRTx"
      }
    },
    {
      "cell_type": "code",
      "source": [
        "model_prediction(DecisionTreeClassifier())"
      ],
      "metadata": {
        "colab": {
          "base_uri": "https://localhost:8080/",
          "height": 439
        },
        "id": "CUUuBC3YTTvn",
        "outputId": "63503cb0-b903-446f-f3e3-c3a8a93e553d"
      },
      "execution_count": null,
      "outputs": [
        {
          "output_type": "stream",
          "name": "stdout",
          "text": [
            "Accuracy_Score of DecisionTreeClassifier() model on Training Data is: 98.53321829163072\n",
            "Accuracy_Score of DecisionTreeClassifier() model on Testing Data is: 74.35307648073606\n",
            "\n",
            "------------------------------------------------------------------------\n",
            "Precision Score of DecisionTreeClassifier() model is: 0.7415730337078652\n",
            "Recall Score of DecisionTreeClassifier() model is: 0.7534246575342466\n",
            "F1 Score of DecisionTreeClassifier() model is: 0.7474518686296717\n",
            "\n",
            "------------------------------------------------------------------------\n",
            "Confusion Matrix of DecisionTreeClassifier() model is:\n"
          ]
        },
        {
          "output_type": "display_data",
          "data": {
            "text/plain": [
              "<Figure size 432x288 with 2 Axes>"
            ],
            "image/png": "[encoded data removed]"
          },
          "metadata": {
            "needs_background": "light"
          }
        }
      ]
    },
    {
      "cell_type": "markdown",
      "source": [
        "## Random Forest"
      ],
      "metadata": {
        "id": "9xg_Gnc3TUns"
      }
    },
    {
      "cell_type": "code",
      "source": [
        "model_prediction(RandomForestClassifier())"
      ],
      "metadata": {
        "colab": {
          "base_uri": "https://localhost:8080/",
          "height": 493
        },
        "id": "LidXU2lTTXZx",
        "outputId": "830becb5-dac6-4fe9-fa4f-a18289a636c0"
      },
      "execution_count": null,
      "outputs": [
        {
          "output_type": "stream",
          "name": "stderr",
          "text": [
            "<ipython-input-250-ade87c2a6f2c>:2: DataConversionWarning: A column-vector y was passed when a 1d array was expected. Please change the shape of y to (n_samples,), for example using ravel().\n",
            "  model.fit(x_train,y_train)\n"
          ]
        },
        {
          "output_type": "stream",
          "name": "stdout",
          "text": [
            "Accuracy_Score of RandomForestClassifier() model on Training Data is: 98.51883807880355\n",
            "Accuracy_Score of RandomForestClassifier() model on Testing Data is: 80.21851638872916\n",
            "\n",
            "------------------------------------------------------------------------\n",
            "Precision Score of RandomForestClassifier() model is: 0.8267813267813268\n",
            "Recall Score of RandomForestClassifier() model is: 0.7682648401826484\n",
            "F1 Score of RandomForestClassifier() model is: 0.7964497041420118\n",
            "\n",
            "------------------------------------------------------------------------\n",
            "Confusion Matrix of RandomForestClassifier() model is:\n"
          ]
        },
        {
          "output_type": "display_data",
          "data": {
            "text/plain": [
              "<Figure size 432x288 with 2 Axes>"
            ],
            "image/png": "[encoded data removed]"
          },
          "metadata": {
            "needs_background": "light"
          }
        }
      ]
    },
    {
      "cell_type": "markdown",
      "source": [
        "## Ada Boost Classifier"
      ],
      "metadata": {
        "id": "keexKfHSTYXT"
      }
    },
    {
      "cell_type": "code",
      "source": [
        "model_prediction(AdaBoostClassifier())"
      ],
      "metadata": {
        "colab": {
          "base_uri": "https://localhost:8080/",
          "height": 493
        },
        "id": "iwoqyOquTalD",
        "outputId": "9c14eea7-bcec-4daa-850d-a3cf8fdd1b35"
      },
      "execution_count": null,
      "outputs": [
        {
          "output_type": "stream",
          "name": "stderr",
          "text": [
            "/usr/local/lib/python3.8/dist-packages/sklearn/utils/validation.py:993: DataConversionWarning: A column-vector y was passed when a 1d array was expected. Please change the shape of y to (n_samples, ), for example using ravel().\n",
            "  y = column_or_1d(y, warn=True)\n"
          ]
        },
        {
          "output_type": "stream",
          "name": "stdout",
          "text": [
            "Accuracy_Score of AdaBoostClassifier() model on Training Data is: 79.98274374460742\n",
            "Accuracy_Score of AdaBoostClassifier() model on Testing Data is: 79.24094307073031\n",
            "\n",
            "------------------------------------------------------------------------\n",
            "Precision Score of AdaBoostClassifier() model is: 0.7657378740970072\n",
            "Recall Score of AdaBoostClassifier() model is: 0.8470319634703196\n",
            "F1 Score of AdaBoostClassifier() model is: 0.8043360433604336\n",
            "\n",
            "------------------------------------------------------------------------\n",
            "Confusion Matrix of AdaBoostClassifier() model is:\n"
          ]
        },
        {
          "output_type": "display_data",
          "data": {
            "text/plain": [
              "<Figure size 432x288 with 2 Axes>"
            ],
            "image/png": "[encoded data removed]"
          },
          "metadata": {
            "needs_background": "light"
          }
        }
      ]
    },
    {
      "cell_type": "markdown",
      "source": [
        "## Gradient Boosting Classifier"
      ],
      "metadata": {
        "id": "WKRHp-CTTdSU"
      }
    },
    {
      "cell_type": "code",
      "source": [
        "model_prediction(GradientBoostingClassifier())"
      ],
      "metadata": {
        "colab": {
          "base_uri": "https://localhost:8080/",
          "height": 493
        },
        "id": "rHFGPWqGTeYV",
        "outputId": "81fca249-bf95-469c-e7bd-2e102fbeca9a"
      },
      "execution_count": null,
      "outputs": [
        {
          "output_type": "stream",
          "name": "stderr",
          "text": [
            "/usr/local/lib/python3.8/dist-packages/sklearn/ensemble/_gb.py:494: DataConversionWarning: A column-vector y was passed when a 1d array was expected. Please change the shape of y to (n_samples, ), for example using ravel().\n",
            "  y = column_or_1d(y, warn=True)\n"
          ]
        },
        {
          "output_type": "stream",
          "name": "stdout",
          "text": [
            "Accuracy_Score of GradientBoostingClassifier() model on Training Data is: 82.053494391717\n",
            "Accuracy_Score of GradientBoostingClassifier() model on Testing Data is: 79.29844738355378\n",
            "\n",
            "------------------------------------------------------------------------\n",
            "Precision Score of GradientBoostingClassifier() model is: 0.7721518987341772\n",
            "Recall Score of GradientBoostingClassifier() model is: 0.8356164383561644\n",
            "F1 Score of GradientBoostingClassifier() model is: 0.8026315789473685\n",
            "\n",
            "------------------------------------------------------------------------\n",
            "Confusion Matrix of GradientBoostingClassifier() model is:\n"
          ]
        },
        {
          "output_type": "display_data",
          "data": {
            "text/plain": [
              "<Figure size 432x288 with 2 Axes>"
            ],
            "image/png": "[encoded data removed]"
          },
          "metadata": {
            "needs_background": "light"
          }
        }
      ]
    },
    {
      "cell_type": "markdown",
      "source": [
        "## LGMB Classifier"
      ],
      "metadata": {
        "id": "sIVx4I6kTf9J"
      }
    },
    {
      "cell_type": "code",
      "source": [
        "model_prediction(LGBMClassifier())"
      ],
      "metadata": {
        "colab": {
          "base_uri": "https://localhost:8080/",
          "height": 528
        },
        "id": "ruFS6dHRTiwK",
        "outputId": "9998cdb3-44b3-4486-f66f-f33d389ce5b3"
      },
      "execution_count": null,
      "outputs": [
        {
          "output_type": "stream",
          "name": "stderr",
          "text": [
            "/usr/local/lib/python3.8/dist-packages/sklearn/preprocessing/_label.py:98: DataConversionWarning: A column-vector y was passed when a 1d array was expected. Please change the shape of y to (n_samples, ), for example using ravel().\n",
            "  y = column_or_1d(y, warn=True)\n",
            "/usr/local/lib/python3.8/dist-packages/sklearn/preprocessing/_label.py:133: DataConversionWarning: A column-vector y was passed when a 1d array was expected. Please change the shape of y to (n_samples, ), for example using ravel().\n",
            "  y = column_or_1d(y, warn=True)\n"
          ]
        },
        {
          "output_type": "stream",
          "name": "stdout",
          "text": [
            "Accuracy_Score of LGBMClassifier() model on Training Data is: 88.10756399194707\n",
            "Accuracy_Score of LGBMClassifier() model on Testing Data is: 81.25359401955147\n",
            "\n",
            "------------------------------------------------------------------------\n",
            "Precision Score of LGBMClassifier() model is: 0.802863436123348\n",
            "Recall Score of LGBMClassifier() model is: 0.8321917808219178\n",
            "F1 Score of LGBMClassifier() model is: 0.8172645739910315\n",
            "\n",
            "------------------------------------------------------------------------\n",
            "Confusion Matrix of LGBMClassifier() model is:\n"
          ]
        },
        {
          "output_type": "display_data",
          "data": {
            "text/plain": [
              "<Figure size 432x288 with 2 Axes>"
            ],
            "image/png": "[encoded data removed]"
          },
          "metadata": {
            "needs_background": "light"
          }
        }
      ]
    },
    {
      "cell_type": "markdown",
      "source": [
        "## XGBClassifier "
      ],
      "metadata": {
        "id": "kXhJ7ldzTkzW"
      }
    },
    {
      "cell_type": "code",
      "source": [
        "model_prediction(XGBClassifier())"
      ],
      "metadata": {
        "colab": {
          "base_uri": "https://localhost:8080/",
          "height": 528
        },
        "id": "qf21pArjTlux",
        "outputId": "bb93f69b-1035-4bbf-ab5b-92dfb634e3d5"
      },
      "execution_count": null,
      "outputs": [
        {
          "output_type": "stream",
          "name": "stderr",
          "text": [
            "/usr/local/lib/python3.8/dist-packages/sklearn/preprocessing/_label.py:98: DataConversionWarning: A column-vector y was passed when a 1d array was expected. Please change the shape of y to (n_samples, ), for example using ravel().\n",
            "  y = column_or_1d(y, warn=True)\n",
            "/usr/local/lib/python3.8/dist-packages/sklearn/preprocessing/_label.py:133: DataConversionWarning: A column-vector y was passed when a 1d array was expected. Please change the shape of y to (n_samples, ), for example using ravel().\n",
            "  y = column_or_1d(y, warn=True)\n"
          ]
        },
        {
          "output_type": "stream",
          "name": "stdout",
          "text": [
            "Accuracy_Score of XGBClassifier() model on Training Data is: 81.80903077365545\n",
            "Accuracy_Score of XGBClassifier() model on Testing Data is: 79.18343875790684\n",
            "\n",
            "------------------------------------------------------------------------\n",
            "Precision Score of XGBClassifier() model is: 0.7734042553191489\n",
            "Recall Score of XGBClassifier() model is: 0.8299086757990868\n",
            "F1 Score of XGBClassifier() model is: 0.8006607929515418\n",
            "\n",
            "------------------------------------------------------------------------\n",
            "Confusion Matrix of XGBClassifier() model is:\n"
          ]
        },
        {
          "output_type": "display_data",
          "data": {
            "text/plain": [
              "<Figure size 432x288 with 2 Axes>"
            ],
            "image/png": "[encoded data removed]"
          },
          "metadata": {
            "needs_background": "light"
          }
        }
      ]
    },
    {
      "cell_type": "markdown",
      "source": [
        "## CatBoost Classifier"
      ],
      "metadata": {
        "id": "7DaCtX8vTpe5"
      }
    },
    {
      "cell_type": "code",
      "source": [
        "model_prediction(CatBoostClassifier(verbose=False))"
      ],
      "metadata": {
        "colab": {
          "base_uri": "https://localhost:8080/",
          "height": 439
        },
        "id": "7kniLLe_TrKl",
        "outputId": "e5a5b97d-1cf0-46fb-a6c7-dbddcba8eb4a"
      },
      "execution_count": null,
      "outputs": [
        {
          "output_type": "stream",
          "name": "stdout",
          "text": [
            "Accuracy_Score of <catboost.core.CatBoostClassifier object at 0x7fd7b08aed00> model on Training Data is: 87.331032499281\n",
            "Accuracy_Score of <catboost.core.CatBoostClassifier object at 0x7fd7b08aed00> model on Testing Data is: 81.36860264519838\n",
            "\n",
            "------------------------------------------------------------------------\n",
            "Precision Score of <catboost.core.CatBoostClassifier object at 0x7fd7b08aed00> model is: 0.8032967032967033\n",
            "Recall Score of <catboost.core.CatBoostClassifier object at 0x7fd7b08aed00> model is: 0.8344748858447488\n",
            "F1 Score of <catboost.core.CatBoostClassifier object at 0x7fd7b08aed00> model is: 0.8185890257558791\n",
            "\n",
            "------------------------------------------------------------------------\n",
            "Confusion Matrix of <catboost.core.CatBoostClassifier object at 0x7fd7b08aed00> model is:\n"
          ]
        },
        {
          "output_type": "display_data",
          "data": {
            "text/plain": [
              "<Figure size 432x288 with 2 Axes>"
            ],
            "image/png": "[encoded data removed]"
          },
          "metadata": {
            "needs_background": "light"
          }
        }
      ]
    },
    {
      "cell_type": "markdown",
      "source": [
        "# Comparação de todos os modelos"
      ],
      "metadata": {
        "id": "FGr9D3NoTuL3"
      }
    },
    {
      "cell_type": "code",
      "source": [
        "models = [\"Logistic Regression\",\"KNN\",\"SVM\",\"Naive Bayes\",\"Decision Tree\",\"Random Forest\",\"Ada Boost\",\n",
        "          \"Gradient Boost\",\"LGBM\",\"XGBoost\",\"CatBoost\"]"
      ],
      "metadata": {
        "id": "q9DvovsyTwjv"
      },
      "execution_count": null,
      "outputs": []
    },
    {
      "cell_type": "code",
      "source": [
        "df = pd.DataFrame({\"Algorithms\":models,\n",
        "                   \"Training Score\":training_score,\n",
        "                   \"Testing Score\":testing_score})"
      ],
      "metadata": {
        "id": "ON5kz7XlTyDW"
      },
      "execution_count": null,
      "outputs": []
    },
    {
      "cell_type": "code",
      "source": [
        "df.sort_values(by='Testing Score', ascending=False)"
      ],
      "metadata": {
        "colab": {
          "base_uri": "https://localhost:8080/",
          "height": 394
        },
        "id": "u-2Zu56cTzXL",
        "outputId": "e093fa40-89b2-460e-c3c9-c62c10b42464"
      },
      "execution_count": null,
      "outputs": [
        {
          "output_type": "execute_result",
          "data": {
            "text/plain": [
              "             Algorithms  Training Score  Testing Score\n",
              "10             CatBoost       87.331032      81.368603\n",
              "8                  LGBM       88.107564      81.253594\n",
              "5         Random Forest       98.518838      80.218516\n",
              "2                   SVM       81.823411      79.700978\n",
              "7        Gradient Boost       82.053494      79.298447\n",
              "6             Ada Boost       79.982744      79.240943\n",
              "9               XGBoost       81.809031      79.183439\n",
              "0   Logistic Regression       77.868852      77.170788\n",
              "1                   KNN       83.146391      75.503163\n",
              "4         Decision Tree       98.533218      74.353076\n",
              "3           Naive Bayes       73.943054      73.375503"
            ],
            "text/html": [
              "\n",
              "  <div id=\"df-7a5e5a57-f7c7-4880-9489-3ec9e0ed5601\">\n",
              "    <div class=\"colab-df-container\">\n",
              "      <div>\n",
              "<style scoped>\n",
              "    .dataframe tbody tr th:only-of-type {\n",
              "        vertical-align: middle;\n",
              "    }\n",
              "\n",
              "    .dataframe tbody tr th {\n",
              "        vertical-align: top;\n",
              "    }\n",
              "\n",
              "    .dataframe thead th {\n",
              "        text-align: right;\n",
              "    }\n",
              "</style>\n",
              "<table border=\"1\" class=\"dataframe\">\n",
              "  <thead>\n",
              "    <tr style=\"text-align: right;\">\n",
              "      <th></th>\n",
              "      <th>Algorithms</th>\n",
              "      <th>Training Score</th>\n",
              "      <th>Testing Score</th>\n",
              "    </tr>\n",
              "  </thead>\n",
              "  <tbody>\n",
              "    <tr>\n",
              "      <th>10</th>\n",
              "      <td>CatBoost</td>\n",
              "      <td>87.331032</td>\n",
              "      <td>81.368603</td>\n",
              "    </tr>\n",
              "    <tr>\n",
              "      <th>8</th>\n",
              "      <td>LGBM</td>\n",
              "      <td>88.107564</td>\n",
              "      <td>81.253594</td>\n",
              "    </tr>\n",
              "    <tr>\n",
              "      <th>5</th>\n",
              "      <td>Random Forest</td>\n",
              "      <td>98.518838</td>\n",
              "      <td>80.218516</td>\n",
              "    </tr>\n",
              "    <tr>\n",
              "      <th>2</th>\n",
              "      <td>SVM</td>\n",
              "      <td>81.823411</td>\n",
              "      <td>79.700978</td>\n",
              "    </tr>\n",
              "    <tr>\n",
              "      <th>7</th>\n",
              "      <td>Gradient Boost</td>\n",
              "      <td>82.053494</td>\n",
              "      <td>79.298447</td>\n",
              "    </tr>\n",
              "    <tr>\n",
              "      <th>6</th>\n",
              "      <td>Ada Boost</td>\n",
              "      <td>79.982744</td>\n",
              "      <td>79.240943</td>\n",
              "    </tr>\n",
              "    <tr>\n",
              "      <th>9</th>\n",
              "      <td>XGBoost</td>\n",
              "      <td>81.809031</td>\n",
              "      <td>79.183439</td>\n",
              "    </tr>\n",
              "    <tr>\n",
              "      <th>0</th>\n",
              "      <td>Logistic Regression</td>\n",
              "      <td>77.868852</td>\n",
              "      <td>77.170788</td>\n",
              "    </tr>\n",
              "    <tr>\n",
              "      <th>1</th>\n",
              "      <td>KNN</td>\n",
              "      <td>83.146391</td>\n",
              "      <td>75.503163</td>\n",
              "    </tr>\n",
              "    <tr>\n",
              "      <th>4</th>\n",
              "      <td>Decision Tree</td>\n",
              "      <td>98.533218</td>\n",
              "      <td>74.353076</td>\n",
              "    </tr>\n",
              "    <tr>\n",
              "      <th>3</th>\n",
              "      <td>Naive Bayes</td>\n",
              "      <td>73.943054</td>\n",
              "      <td>73.375503</td>\n",
              "    </tr>\n",
              "  </tbody>\n",
              "</table>\n",
              "</div>\n",
              "      <button class=\"colab-df-convert\" onclick=\"convertToInteractive('df-7a5e5a57-f7c7-4880-9489-3ec9e0ed5601')\"\n",
              "              title=\"Convert this dataframe to an interactive table.\"\n",
              "              style=\"display:none;\">\n",
              "        \n",
              "  <svg xmlns=\"http://www.w3.org/2000/svg\" height=\"24px\"viewBox=\"0 0 24 24\"\n",
              "       width=\"24px\">\n",
              "    <path d=\"M0 0h24v24H0V0z\" fill=\"none\"/>\n",
              "    <path d=\"M18.56 5.44l.94 2.06.94-2.06 2.06-.94-2.06-.94-.94-2.06-.94 2.06-2.06.94zm-11 1L8.5 8.5l.94-2.06 2.06-.94-2.06-.94L8.5 2.5l-.94 2.06-2.06.94zm10 10l.94 2.06.94-2.06 2.06-.94-2.06-.94-.94-2.06-.94 2.06-2.06.94z\"/><path d=\"M17.41 7.96l-1.37-1.37c-.4-.4-.92-.59-1.43-.59-.52 0-1.04.2-1.43.59L10.3 9.45l-7.72 7.72c-.78.78-.78 2.05 0 2.83L4 21.41c.39.39.9.59 1.41.59.51 0 1.02-.2 1.41-.59l7.78-7.78 2.81-2.81c.8-.78.8-2.07 0-2.86zM5.41 20L4 18.59l7.72-7.72 1.47 1.35L5.41 20z\"/>\n",
              "  </svg>\n",
              "      </button>\n",
              "      \n",
              "  <style>\n",
              "    .colab-df-container {\n",
              "      display:flex;\n",
              "      flex-wrap:wrap;\n",
              "      gap: 12px;\n",
              "    }\n",
              "\n",
              "    .colab-df-convert {\n",
              "      background-color: #E8F0FE;\n",
              "      border: none;\n",
              "      border-radius: 50%;\n",
              "      cursor: pointer;\n",
              "      display: none;\n",
              "      fill: #1967D2;\n",
              "      height: 32px;\n",
              "      padding: 0 0 0 0;\n",
              "      width: 32px;\n",
              "    }\n",
              "\n",
              "    .colab-df-convert:hover {\n",
              "      background-color: #E2EBFA;\n",
              "      box-shadow: 0px 1px 2px rgba(60, 64, 67, 0.3), 0px 1px 3px 1px rgba(60, 64, 67, 0.15);\n",
              "      fill: #174EA6;\n",
              "    }\n",
              "\n",
              "    [theme=dark] .colab-df-convert {\n",
              "      background-color: #3B4455;\n",
              "      fill: #D2E3FC;\n",
              "    }\n",
              "\n",
              "    [theme=dark] .colab-df-convert:hover {\n",
              "      background-color: #434B5C;\n",
              "      box-shadow: 0px 1px 3px 1px rgba(0, 0, 0, 0.15);\n",
              "      filter: drop-shadow(0px 1px 2px rgba(0, 0, 0, 0.3));\n",
              "      fill: #FFFFFF;\n",
              "    }\n",
              "  </style>\n",
              "\n",
              "      <script>\n",
              "        const buttonEl =\n",
              "          document.querySelector('#df-7a5e5a57-f7c7-4880-9489-3ec9e0ed5601 button.colab-df-convert');\n",
              "        buttonEl.style.display =\n",
              "          google.colab.kernel.accessAllowed ? 'block' : 'none';\n",
              "\n",
              "        async function convertToInteractive(key) {\n",
              "          const element = document.querySelector('#df-7a5e5a57-f7c7-4880-9489-3ec9e0ed5601');\n",
              "          const dataTable =\n",
              "            await google.colab.kernel.invokeFunction('convertToInteractive',\n",
              "                                                     [key], {});\n",
              "          if (!dataTable) return;\n",
              "\n",
              "          const docLinkHtml = 'Like what you see? Visit the ' +\n",
              "            '<a target=\"_blank\" href=https://colab.research.google.com/notebooks/data_table.ipynb>data table notebook</a>'\n",
              "            + ' to learn more about interactive tables.';\n",
              "          element.innerHTML = '';\n",
              "          dataTable['output_type'] = 'display_data';\n",
              "          await google.colab.output.renderOutput(dataTable, element);\n",
              "          const docLink = document.createElement('div');\n",
              "          docLink.innerHTML = docLinkHtml;\n",
              "          element.appendChild(docLink);\n",
              "        }\n",
              "      </script>\n",
              "    </div>\n",
              "  </div>\n",
              "  "
            ]
          },
          "metadata": {},
          "execution_count": 263
        }
      ]
    },
    {
      "cell_type": "markdown",
      "source": [
        "# Hyper-Parameter Tunning LGBM "
      ],
      "metadata": {
        "id": "DgEH94pIUQHK"
      }
    },
    {
      "cell_type": "code",
      "source": [
        "model1 = LGBMClassifier()"
      ],
      "metadata": {
        "id": "Wtz4Tx57UTi_"
      },
      "execution_count": null,
      "outputs": []
    },
    {
      "cell_type": "code",
      "source": [
        "parameters1 = {\"n_estimators\":[100,300,500,600,650],\n",
        "              \"learning_rate\":[0.01,0.02,0.03],\n",
        "              \"random_state\":[0,42,48,50],\n",
        "               \"num_leaves\":[16,17,18]}"
      ],
      "metadata": {
        "id": "J6rsurywUVSL"
      },
      "execution_count": null,
      "outputs": []
    },
    {
      "cell_type": "code",
      "source": [
        "grid_search1 = GridSearchCV(model1, parameters1, cv=5, n_jobs=-1)\n",
        "grid_search1.fit(x_train,y_train.values.ravel())"
      ],
      "metadata": {
        "colab": {
          "base_uri": "https://localhost:8080/"
        },
        "id": "u6JEzXKtUWbZ",
        "outputId": "92db1a08-4581-4d7e-dfaa-ec0a36f737c6"
      },
      "execution_count": null,
      "outputs": [
        {
          "output_type": "execute_result",
          "data": {
            "text/plain": [
              "GridSearchCV(cv=5, estimator=LGBMClassifier(), n_jobs=-1,\n",
              "             param_grid={'learning_rate': [0.01, 0.02, 0.03],\n",
              "                         'n_estimators': [100, 300, 500, 600, 650],\n",
              "                         'num_leaves': [16, 17, 18],\n",
              "                         'random_state': [0, 42, 48, 50]})"
            ]
          },
          "metadata": {},
          "execution_count": 267
        }
      ]
    },
    {
      "cell_type": "code",
      "source": [
        "best_parameters1 = grid_search1.best_params_\n",
        "best_parameters1"
      ],
      "metadata": {
        "colab": {
          "base_uri": "https://localhost:8080/"
        },
        "id": "bUOocmE3WG1V",
        "outputId": "15345e90-09cc-4136-c8b6-0ebfd9b2b297"
      },
      "execution_count": null,
      "outputs": [
        {
          "output_type": "execute_result",
          "data": {
            "text/plain": [
              "{'learning_rate': 0.02,\n",
              " 'n_estimators': 300,\n",
              " 'num_leaves': 18,\n",
              " 'random_state': 0}"
            ]
          },
          "metadata": {},
          "execution_count": 269
        }
      ]
    },
    {
      "cell_type": "code",
      "source": [
        "model1 = LGBMClassifier(**best_parameters1)"
      ],
      "metadata": {
        "id": "ievvo7I_WHKP"
      },
      "execution_count": null,
      "outputs": []
    },
    {
      "cell_type": "code",
      "source": [
        "model1.fit(x_train,y_train)"
      ],
      "metadata": {
        "id": "qs6q0_1YWJHb"
      },
      "execution_count": null,
      "outputs": []
    },
    {
      "cell_type": "code",
      "source": [
        "x_test_pred1 = model1.predict(x_test)"
      ],
      "metadata": {
        "id": "L1SKjOUoWKCL"
      },
      "execution_count": null,
      "outputs": []
    },
    {
      "cell_type": "code",
      "source": [
        "accuracy_score(y_test,x_test_pred1)"
      ],
      "metadata": {
        "colab": {
          "base_uri": "https://localhost:8080/"
        },
        "id": "upPtWxBeWM71",
        "outputId": "e2fc5aa6-fc81-4280-a092-b04d7114f0e3"
      },
      "execution_count": null,
      "outputs": [
        {
          "output_type": "execute_result",
          "data": {
            "text/plain": [
              "0.8027602070155262"
            ]
          },
          "metadata": {},
          "execution_count": 273
        }
      ]
    },
    {
      "cell_type": "markdown",
      "source": [
        "# Hyper-Parameter Tunning CatBoost "
      ],
      "metadata": {
        "id": "_gZqd-S8WOHq"
      }
    },
    {
      "cell_type": "code",
      "source": [
        "model2 = CatBoostClassifier(verbose=False)"
      ],
      "metadata": {
        "id": "PIOC0GQRWRCL"
      },
      "execution_count": null,
      "outputs": []
    },
    {
      "cell_type": "code",
      "source": [
        "parameters2 = {\"learning_rate\":[0.1,0.3,0.5,0.6,0.7],\n",
        "              \"random_state\":[0,42,48,50],\n",
        "               \"depth\":[8,9,10],\n",
        "               \"iterations\":[35,40,50]}"
      ],
      "metadata": {
        "id": "Xz0wYWpAWRil"
      },
      "execution_count": null,
      "outputs": []
    },
    {
      "cell_type": "code",
      "source": [
        "grid_search2 = GridSearchCV(model2, parameters2, cv=5, n_jobs=-1)\n",
        "grid_search2.fit(x_train,y_train)"
      ],
      "metadata": {
        "colab": {
          "base_uri": "https://localhost:8080/"
        },
        "id": "2QzxK3z0WSVE",
        "outputId": "8d6c0aed-5fd1-4df1-d108-aaa145fed677"
      },
      "execution_count": null,
      "outputs": [
        {
          "output_type": "execute_result",
          "data": {
            "text/plain": [
              "GridSearchCV(cv=5,\n",
              "             estimator=<catboost.core.CatBoostClassifier object at 0x7fd79b0b3160>,\n",
              "             n_jobs=-1,\n",
              "             param_grid={'depth': [8, 9, 10], 'iterations': [35, 40, 50],\n",
              "                         'learning_rate': [0.1, 0.3, 0.5, 0.6, 0.7],\n",
              "                         'random_state': [0, 42, 48, 50]})"
            ]
          },
          "metadata": {},
          "execution_count": 276
        }
      ]
    },
    {
      "cell_type": "code",
      "source": [
        "best_parameters2 = grid_search2.best_params_\n",
        "best_parameters2"
      ],
      "metadata": {
        "colab": {
          "base_uri": "https://localhost:8080/"
        },
        "id": "xNpDS1uNWUWQ",
        "outputId": "c13e2850-9295-4e7b-8243-e0b916e44ac8"
      },
      "execution_count": null,
      "outputs": [
        {
          "output_type": "execute_result",
          "data": {
            "text/plain": [
              "{'depth': 8, 'iterations': 50, 'learning_rate': 0.1, 'random_state': 42}"
            ]
          },
          "metadata": {},
          "execution_count": 277
        }
      ]
    },
    {
      "cell_type": "code",
      "source": [
        "model2 = CatBoostClassifier(**best_parameters2,verbose=False)"
      ],
      "metadata": {
        "id": "4Z1OrlzeWV6H"
      },
      "execution_count": null,
      "outputs": []
    },
    {
      "cell_type": "code",
      "source": [
        "model2.fit(x_train,y_train)"
      ],
      "metadata": {
        "colab": {
          "base_uri": "https://localhost:8080/"
        },
        "id": "vlcO0TFYWXbp",
        "outputId": "67ce4dcb-1d2a-48b2-b99f-9d2b2f87fa63"
      },
      "execution_count": null,
      "outputs": [
        {
          "output_type": "execute_result",
          "data": {
            "text/plain": [
              "<catboost.core.CatBoostClassifier at 0x7fd79b099d90>"
            ]
          },
          "metadata": {},
          "execution_count": 279
        }
      ]
    },
    {
      "cell_type": "code",
      "source": [
        "x_test_pred2 = model2.predict(x_test)"
      ],
      "metadata": {
        "id": "J7b1YMxwWYLh"
      },
      "execution_count": null,
      "outputs": []
    },
    {
      "cell_type": "code",
      "source": [
        "accuracy_score(y_test,x_test_pred2)"
      ],
      "metadata": {
        "colab": {
          "base_uri": "https://localhost:8080/"
        },
        "id": "AsgvY8sBWZLj",
        "outputId": "785b06db-fa8d-4549-9f81-a5f484819dd2"
      },
      "execution_count": null,
      "outputs": [
        {
          "output_type": "execute_result",
          "data": {
            "text/plain": [
              "0.8010350776308223"
            ]
          },
          "metadata": {},
          "execution_count": 281
        }
      ]
    },
    {
      "cell_type": "markdown",
      "source": [
        "# Hyper-Parameter Tunning XGBoost "
      ],
      "metadata": {
        "id": "LzMIwG07WbKZ"
      }
    },
    {
      "cell_type": "code",
      "source": [
        "model3 = XGBClassifier()"
      ],
      "metadata": {
        "id": "VEmk-PzTWdA5"
      },
      "execution_count": null,
      "outputs": []
    },
    {
      "cell_type": "code",
      "source": [
        "parameters3 = {\"n_estimators\":[50,100,150],\n",
        "             \"random_state\":[0,42,50],\n",
        "             \"learning_rate\":[0.1,0.3,0.5,1.0]}"
      ],
      "metadata": {
        "id": "xKQEDqOQWdaL"
      },
      "execution_count": null,
      "outputs": []
    },
    {
      "cell_type": "code",
      "source": [
        "grid_search3 = GridSearchCV(model3, parameters3 , cv=5, n_jobs=-1)\n",
        "grid_search3.fit(x_train,y_train)"
      ],
      "metadata": {
        "id": "EvoYu8RJWeU2"
      },
      "execution_count": null,
      "outputs": []
    },
    {
      "cell_type": "code",
      "source": [
        "best_parameters3 = grid_search3.best_params_\n",
        "best_parameters3"
      ],
      "metadata": {
        "colab": {
          "base_uri": "https://localhost:8080/"
        },
        "id": "xAbAsXVTWglq",
        "outputId": "a4a11d75-3838-4670-aee3-4a51f1658fdd"
      },
      "execution_count": null,
      "outputs": [
        {
          "output_type": "execute_result",
          "data": {
            "text/plain": [
              "{'learning_rate': 0.5, 'n_estimators': 50, 'random_state': 0}"
            ]
          },
          "metadata": {},
          "execution_count": 285
        }
      ]
    },
    {
      "cell_type": "code",
      "source": [
        "model3 = XGBClassifier(**best_parameters3)"
      ],
      "metadata": {
        "id": "IHowgfvJWieR"
      },
      "execution_count": null,
      "outputs": []
    },
    {
      "cell_type": "code",
      "source": [
        "model3.fit(x_train,y_train)"
      ],
      "metadata": {
        "colab": {
          "base_uri": "https://localhost:8080/"
        },
        "id": "S7xS1--EWjut",
        "outputId": "32c89bbb-499a-40af-af5d-d353761d51a6"
      },
      "execution_count": null,
      "outputs": [
        {
          "output_type": "execute_result",
          "data": {
            "text/plain": [
              "XGBClassifier(learning_rate=0.5, n_estimators=50)"
            ]
          },
          "metadata": {},
          "execution_count": 287
        }
      ]
    },
    {
      "cell_type": "code",
      "source": [
        "x_test_pred3 = model3.predict(x_test)"
      ],
      "metadata": {
        "id": "OgMAlO2iWkcL"
      },
      "execution_count": null,
      "outputs": []
    },
    {
      "cell_type": "code",
      "source": [
        "accuracy_score(y_test,x_test_pred3)"
      ],
      "metadata": {
        "colab": {
          "base_uri": "https://localhost:8080/"
        },
        "id": "1JtJxhKrWlt8",
        "outputId": "3ae719a4-4dbf-4127-f3d2-01d501b94366"
      },
      "execution_count": null,
      "outputs": [
        {
          "output_type": "execute_result",
          "data": {
            "text/plain": [
              "0.8004600345025877"
            ]
          },
          "metadata": {},
          "execution_count": 289
        }
      ]
    },
    {
      "cell_type": "markdown",
      "source": [
        "# Hyper Parameter Tunning RandomForest "
      ],
      "metadata": {
        "id": "amLUgsXcWnnY"
      }
    },
    {
      "cell_type": "code",
      "source": [
        "model4 = RandomForestClassifier()"
      ],
      "metadata": {
        "id": "xxihigR6WsTG"
      },
      "execution_count": null,
      "outputs": []
    },
    {
      "cell_type": "code",
      "source": [
        "parameters4 = {'n_estimators': [100,300,500,550],\n",
        "               'min_samples_split':[7,8,9],\n",
        "               'max_depth': [10,11,12], \n",
        "               'min_samples_leaf':[4,5,6]}"
      ],
      "metadata": {
        "id": "sBifliCOWst3"
      },
      "execution_count": null,
      "outputs": []
    },
    {
      "cell_type": "code",
      "source": [
        "grid_search4 = GridSearchCV(model4, parameters4, cv=5, n_jobs=-1)\n",
        "grid_search4.fit(x_train,y_train.values.ravel())"
      ],
      "metadata": {
        "colab": {
          "base_uri": "https://localhost:8080/"
        },
        "id": "W8K5ateDWthG",
        "outputId": "989cb501-a844-4827-fee8-63bace0eebcf"
      },
      "execution_count": null,
      "outputs": [
        {
          "output_type": "execute_result",
          "data": {
            "text/plain": [
              "GridSearchCV(cv=5, estimator=RandomForestClassifier(), n_jobs=-1,\n",
              "             param_grid={'max_depth': [10, 11, 12],\n",
              "                         'min_samples_leaf': [4, 5, 6],\n",
              "                         'min_samples_split': [7, 8, 9],\n",
              "                         'n_estimators': [100, 300, 500, 550]})"
            ]
          },
          "metadata": {},
          "execution_count": 292
        }
      ]
    },
    {
      "cell_type": "code",
      "source": [
        "best_parameters4 = grid_search4.best_params_\n",
        "best_parameters4"
      ],
      "metadata": {
        "colab": {
          "base_uri": "https://localhost:8080/"
        },
        "id": "x_2pi8sSWvRe",
        "outputId": "13f42490-45b7-48fe-eba9-e26d93419e9a"
      },
      "execution_count": null,
      "outputs": [
        {
          "output_type": "execute_result",
          "data": {
            "text/plain": [
              "{'max_depth': 12,\n",
              " 'min_samples_leaf': 5,\n",
              " 'min_samples_split': 9,\n",
              " 'n_estimators': 500}"
            ]
          },
          "metadata": {},
          "execution_count": 293
        }
      ]
    },
    {
      "cell_type": "code",
      "source": [
        "model4 = RandomForestClassifier(**best_parameters4)"
      ],
      "metadata": {
        "id": "Oh7QHbXXWwds"
      },
      "execution_count": null,
      "outputs": []
    },
    {
      "cell_type": "code",
      "source": [
        "model4.fit(x_train,y_train)"
      ],
      "metadata": {
        "id": "SUqLwEARWx3A"
      },
      "execution_count": null,
      "outputs": []
    },
    {
      "cell_type": "code",
      "source": [
        "x_test_pred4 = model4.predict(x_test)"
      ],
      "metadata": {
        "id": "trok9Z7nWza-"
      },
      "execution_count": null,
      "outputs": []
    },
    {
      "cell_type": "code",
      "source": [
        "accuracy_score(y_test,x_test_pred4)"
      ],
      "metadata": {
        "colab": {
          "base_uri": "https://localhost:8080/"
        },
        "id": "Af2dgC_MW0Ve",
        "outputId": "76dd8e74-b54f-46f4-fbfc-a6278df8f026"
      },
      "execution_count": null,
      "outputs": [
        {
          "output_type": "execute_result",
          "data": {
            "text/plain": [
              "0.8010350776308223"
            ]
          },
          "metadata": {},
          "execution_count": 297
        }
      ]
    },
    {
      "cell_type": "markdown",
      "source": [
        "# Stacking Classifier "
      ],
      "metadata": {
        "id": "ipQwxXx-W2N0"
      }
    },
    {
      "cell_type": "code",
      "source": [
        "stacking_model = StackingClassifier(estimators=[('LGBM', model1), \n",
        "                                                ('CAT Boost', model2),\n",
        "                                                (\"XGBoost\", model3),\n",
        "                                                ('RF', model4)]\n",
        "                                    )"
      ],
      "metadata": {
        "id": "kwY9k8gzW4xC"
      },
      "execution_count": null,
      "outputs": []
    },
    {
      "cell_type": "code",
      "source": [
        "stacking_model.fit(x_train, y_train)"
      ],
      "metadata": {
        "id": "JVldLyfPW6rs"
      },
      "execution_count": null,
      "outputs": []
    },
    {
      "cell_type": "code",
      "source": [
        "x_train_pred5 = stacking_model.predict(x_train)"
      ],
      "metadata": {
        "id": "lexXK1B6W70r"
      },
      "execution_count": null,
      "outputs": []
    },
    {
      "cell_type": "code",
      "source": [
        "x_test_pred5 = stacking_model.predict(x_test)"
      ],
      "metadata": {
        "id": "giFVBb-mW886"
      },
      "execution_count": null,
      "outputs": []
    },
    {
      "cell_type": "code",
      "source": [
        "accuracy_score(y_train,x_train_pred5)"
      ],
      "metadata": {
        "colab": {
          "base_uri": "https://localhost:8080/"
        },
        "id": "D6Qqa7oEXArH",
        "outputId": "ea58b60c-d065-4c9f-d859-93cda0635f32"
      },
      "execution_count": null,
      "outputs": [
        {
          "output_type": "execute_result",
          "data": {
            "text/plain": [
              "0.8372159907966638"
            ]
          },
          "metadata": {},
          "execution_count": 302
        }
      ]
    },
    {
      "cell_type": "code",
      "source": [
        "accuracy_score(y_test,x_test_pred5)"
      ],
      "metadata": {
        "colab": {
          "base_uri": "https://localhost:8080/"
        },
        "id": "M4P5GyoXXBJ9",
        "outputId": "50cc09ed-4599-446c-a47c-b14ab47f6da0"
      },
      "execution_count": null,
      "outputs": [
        {
          "output_type": "execute_result",
          "data": {
            "text/plain": [
              "0.8039102932719954"
            ]
          },
          "metadata": {},
          "execution_count": 303
        }
      ]
    },
    {
      "cell_type": "markdown",
      "source": [
        "# Predição"
      ],
      "metadata": {
        "id": "iuPGdUp9XEwS"
      }
    },
    {
      "cell_type": "code",
      "source": [
        "pred = stacking_model.predict(test_df)\n",
        "pred"
      ],
      "metadata": {
        "colab": {
          "base_uri": "https://localhost:8080/"
        },
        "id": "vPXOCuj_XGx3",
        "outputId": "a4603bcc-4a5b-4f86-b95d-8713fac4ee61"
      },
      "execution_count": null,
      "outputs": [
        {
          "output_type": "execute_result",
          "data": {
            "text/plain": [
              "array([1, 0, 1, ..., 1, 1, 1])"
            ]
          },
          "metadata": {},
          "execution_count": 304
        }
      ]
    },
    {
      "cell_type": "code",
      "source": [
        "pass_df[\"Transported\"] = pred"
      ],
      "metadata": {
        "id": "y_Oj6vBwXHJR"
      },
      "execution_count": null,
      "outputs": []
    },
    {
      "cell_type": "code",
      "source": [
        "pass_df[\"Transported\"].replace({1:True,0:False},inplace=True)"
      ],
      "metadata": {
        "id": "IfDlz2L6XNbh"
      },
      "execution_count": null,
      "outputs": []
    },
    {
      "cell_type": "code",
      "source": [
        "pass_df.to_csv(\"spaceship_titanic_predicaoV1.csv\",index=False)"
      ],
      "metadata": {
        "id": "kveBPoOZXOXT"
      },
      "execution_count": null,
      "outputs": []
    }
  ],
  "metadata": {
    "colab": {
      "provenance": [],
      "toc_visible": true
    },
    "kernelspec": {
      "display_name": "Python 3",
      "name": "python3"
    },
    "language_info": {
      "name": "python"
    }
  },
  "nbformat": 4,
  "nbformat_minor": 0
}