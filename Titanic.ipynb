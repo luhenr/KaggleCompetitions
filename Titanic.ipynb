{
  "nbformat": 4,
  "nbformat_minor": 0,
  "metadata": {
    "colab": {
      "provenance": [],
      "toc_visible": true,
      "authorship_tag": "ABX9TyMdlyC39++MOtK8Lcgl5MVY"
    },
    "kernelspec": {
      "name": "python3",
      "display_name": "Python 3"
    },
    "language_info": {
      "name": "python"
    }
  },
  "cells": [
    {
      "cell_type": "code",
      "execution_count": null,
      "metadata": {
        "id": "MV_Rb818tfXo"
      },
      "outputs": [],
      "source": [
        "import pandas as pd\n",
        "import numpy as np\n",
        "import seaborn as sns\n",
        "from sklearn.model_selection import train_test_split"
      ]
    },
    {
      "cell_type": "markdown",
      "source": [
        "# Tratamento\n"
      ],
      "metadata": {
        "id": "y09hGTwfQbis"
      }
    },
    {
      "cell_type": "code",
      "source": [
        "df_train = pd.read_csv('/content/train.csv')\n",
        "df_test = pd.read_csv('/content/test.csv')"
      ],
      "metadata": {
        "id": "1dnEwz86uiJZ"
      },
      "execution_count": null,
      "outputs": []
    },
    {
      "cell_type": "code",
      "source": [
        "df_train.head()"
      ],
      "metadata": {
        "colab": {
          "base_uri": "https://localhost:8080/",
          "height": 389
        },
        "id": "Iw_9yvpegXW9",
        "outputId": "f7f31eca-c556-4d60-def4-1ba7caae5558"
      },
      "execution_count": null,
      "outputs": [
        {
          "output_type": "execute_result",
          "data": {
            "text/plain": [
              "   PassengerId  Survived  Pclass  \\\n",
              "0            1         0       3   \n",
              "1            2         1       1   \n",
              "2            3         1       3   \n",
              "3            4         1       1   \n",
              "4            5         0       3   \n",
              "\n",
              "                                                Name     Sex   Age  SibSp  \\\n",
              "0                            Braund, Mr. Owen Harris    male  22.0      1   \n",
              "1  Cumings, Mrs. John Bradley (Florence Briggs Th...  female  38.0      1   \n",
              "2                             Heikkinen, Miss. Laina  female  26.0      0   \n",
              "3       Futrelle, Mrs. Jacques Heath (Lily May Peel)  female  35.0      1   \n",
              "4                           Allen, Mr. William Henry    male  35.0      0   \n",
              "\n",
              "   Parch            Ticket     Fare Cabin Embarked  Sex_binario  \n",
              "0      0         A/5 21171   7.2500   NaN        S            0  \n",
              "1      0          PC 17599  71.2833   C85        C            1  \n",
              "2      0  STON/O2. 3101282   7.9250   NaN        S            1  \n",
              "3      0            113803  53.1000  C123        S            1  \n",
              "4      0            373450   8.0500   NaN        S            0  "
            ],
            "text/html": [
              "\n",
              "  <div id=\"df-66209a8a-ee99-44b2-89c7-3d11d0e4d073\">\n",
              "    <div class=\"colab-df-container\">\n",
              "      <div>\n",
              "<style scoped>\n",
              "    .dataframe tbody tr th:only-of-type {\n",
              "        vertical-align: middle;\n",
              "    }\n",
              "\n",
              "    .dataframe tbody tr th {\n",
              "        vertical-align: top;\n",
              "    }\n",
              "\n",
              "    .dataframe thead th {\n",
              "        text-align: right;\n",
              "    }\n",
              "</style>\n",
              "<table border=\"1\" class=\"dataframe\">\n",
              "  <thead>\n",
              "    <tr style=\"text-align: right;\">\n",
              "      <th></th>\n",
              "      <th>PassengerId</th>\n",
              "      <th>Survived</th>\n",
              "      <th>Pclass</th>\n",
              "      <th>Name</th>\n",
              "      <th>Sex</th>\n",
              "      <th>Age</th>\n",
              "      <th>SibSp</th>\n",
              "      <th>Parch</th>\n",
              "      <th>Ticket</th>\n",
              "      <th>Fare</th>\n",
              "      <th>Cabin</th>\n",
              "      <th>Embarked</th>\n",
              "      <th>Sex_binario</th>\n",
              "    </tr>\n",
              "  </thead>\n",
              "  <tbody>\n",
              "    <tr>\n",
              "      <th>0</th>\n",
              "      <td>1</td>\n",
              "      <td>0</td>\n",
              "      <td>3</td>\n",
              "      <td>Braund, Mr. Owen Harris</td>\n",
              "      <td>male</td>\n",
              "      <td>22.0</td>\n",
              "      <td>1</td>\n",
              "      <td>0</td>\n",
              "      <td>A/5 21171</td>\n",
              "      <td>7.2500</td>\n",
              "      <td>NaN</td>\n",
              "      <td>S</td>\n",
              "      <td>0</td>\n",
              "    </tr>\n",
              "    <tr>\n",
              "      <th>1</th>\n",
              "      <td>2</td>\n",
              "      <td>1</td>\n",
              "      <td>1</td>\n",
              "      <td>Cumings, Mrs. John Bradley (Florence Briggs Th...</td>\n",
              "      <td>female</td>\n",
              "      <td>38.0</td>\n",
              "      <td>1</td>\n",
              "      <td>0</td>\n",
              "      <td>PC 17599</td>\n",
              "      <td>71.2833</td>\n",
              "      <td>C85</td>\n",
              "      <td>C</td>\n",
              "      <td>1</td>\n",
              "    </tr>\n",
              "    <tr>\n",
              "      <th>2</th>\n",
              "      <td>3</td>\n",
              "      <td>1</td>\n",
              "      <td>3</td>\n",
              "      <td>Heikkinen, Miss. Laina</td>\n",
              "      <td>female</td>\n",
              "      <td>26.0</td>\n",
              "      <td>0</td>\n",
              "      <td>0</td>\n",
              "      <td>STON/O2. 3101282</td>\n",
              "      <td>7.9250</td>\n",
              "      <td>NaN</td>\n",
              "      <td>S</td>\n",
              "      <td>1</td>\n",
              "    </tr>\n",
              "    <tr>\n",
              "      <th>3</th>\n",
              "      <td>4</td>\n",
              "      <td>1</td>\n",
              "      <td>1</td>\n",
              "      <td>Futrelle, Mrs. Jacques Heath (Lily May Peel)</td>\n",
              "      <td>female</td>\n",
              "      <td>35.0</td>\n",
              "      <td>1</td>\n",
              "      <td>0</td>\n",
              "      <td>113803</td>\n",
              "      <td>53.1000</td>\n",
              "      <td>C123</td>\n",
              "      <td>S</td>\n",
              "      <td>1</td>\n",
              "    </tr>\n",
              "    <tr>\n",
              "      <th>4</th>\n",
              "      <td>5</td>\n",
              "      <td>0</td>\n",
              "      <td>3</td>\n",
              "      <td>Allen, Mr. William Henry</td>\n",
              "      <td>male</td>\n",
              "      <td>35.0</td>\n",
              "      <td>0</td>\n",
              "      <td>0</td>\n",
              "      <td>373450</td>\n",
              "      <td>8.0500</td>\n",
              "      <td>NaN</td>\n",
              "      <td>S</td>\n",
              "      <td>0</td>\n",
              "    </tr>\n",
              "  </tbody>\n",
              "</table>\n",
              "</div>\n",
              "      <button class=\"colab-df-convert\" onclick=\"convertToInteractive('df-66209a8a-ee99-44b2-89c7-3d11d0e4d073')\"\n",
              "              title=\"Convert this dataframe to an interactive table.\"\n",
              "              style=\"display:none;\">\n",
              "        \n",
              "  <svg xmlns=\"http://www.w3.org/2000/svg\" height=\"24px\"viewBox=\"0 0 24 24\"\n",
              "       width=\"24px\">\n",
              "    <path d=\"M0 0h24v24H0V0z\" fill=\"none\"/>\n",
              "    <path d=\"M18.56 5.44l.94 2.06.94-2.06 2.06-.94-2.06-.94-.94-2.06-.94 2.06-2.06.94zm-11 1L8.5 8.5l.94-2.06 2.06-.94-2.06-.94L8.5 2.5l-.94 2.06-2.06.94zm10 10l.94 2.06.94-2.06 2.06-.94-2.06-.94-.94-2.06-.94 2.06-2.06.94z\"/><path d=\"M17.41 7.96l-1.37-1.37c-.4-.4-.92-.59-1.43-.59-.52 0-1.04.2-1.43.59L10.3 9.45l-7.72 7.72c-.78.78-.78 2.05 0 2.83L4 21.41c.39.39.9.59 1.41.59.51 0 1.02-.2 1.41-.59l7.78-7.78 2.81-2.81c.8-.78.8-2.07 0-2.86zM5.41 20L4 18.59l7.72-7.72 1.47 1.35L5.41 20z\"/>\n",
              "  </svg>\n",
              "      </button>\n",
              "      \n",
              "  <style>\n",
              "    .colab-df-container {\n",
              "      display:flex;\n",
              "      flex-wrap:wrap;\n",
              "      gap: 12px;\n",
              "    }\n",
              "\n",
              "    .colab-df-convert {\n",
              "      background-color: #E8F0FE;\n",
              "      border: none;\n",
              "      border-radius: 50%;\n",
              "      cursor: pointer;\n",
              "      display: none;\n",
              "      fill: #1967D2;\n",
              "      height: 32px;\n",
              "      padding: 0 0 0 0;\n",
              "      width: 32px;\n",
              "    }\n",
              "\n",
              "    .colab-df-convert:hover {\n",
              "      background-color: #E2EBFA;\n",
              "      box-shadow: 0px 1px 2px rgba(60, 64, 67, 0.3), 0px 1px 3px 1px rgba(60, 64, 67, 0.15);\n",
              "      fill: #174EA6;\n",
              "    }\n",
              "\n",
              "    [theme=dark] .colab-df-convert {\n",
              "      background-color: #3B4455;\n",
              "      fill: #D2E3FC;\n",
              "    }\n",
              "\n",
              "    [theme=dark] .colab-df-convert:hover {\n",
              "      background-color: #434B5C;\n",
              "      box-shadow: 0px 1px 3px 1px rgba(0, 0, 0, 0.15);\n",
              "      filter: drop-shadow(0px 1px 2px rgba(0, 0, 0, 0.3));\n",
              "      fill: #FFFFFF;\n",
              "    }\n",
              "  </style>\n",
              "\n",
              "      <script>\n",
              "        const buttonEl =\n",
              "          document.querySelector('#df-66209a8a-ee99-44b2-89c7-3d11d0e4d073 button.colab-df-convert');\n",
              "        buttonEl.style.display =\n",
              "          google.colab.kernel.accessAllowed ? 'block' : 'none';\n",
              "\n",
              "        async function convertToInteractive(key) {\n",
              "          const element = document.querySelector('#df-66209a8a-ee99-44b2-89c7-3d11d0e4d073');\n",
              "          const dataTable =\n",
              "            await google.colab.kernel.invokeFunction('convertToInteractive',\n",
              "                                                     [key], {});\n",
              "          if (!dataTable) return;\n",
              "\n",
              "          const docLinkHtml = 'Like what you see? Visit the ' +\n",
              "            '<a target=\"_blank\" href=https://colab.research.google.com/notebooks/data_table.ipynb>data table notebook</a>'\n",
              "            + ' to learn more about interactive tables.';\n",
              "          element.innerHTML = '';\n",
              "          dataTable['output_type'] = 'display_data';\n",
              "          await google.colab.output.renderOutput(dataTable, element);\n",
              "          const docLink = document.createElement('div');\n",
              "          docLink.innerHTML = docLinkHtml;\n",
              "          element.appendChild(docLink);\n",
              "        }\n",
              "      </script>\n",
              "    </div>\n",
              "  </div>\n",
              "  "
            ]
          },
          "metadata": {},
          "execution_count": 41
        }
      ]
    },
    {
      "cell_type": "code",
      "source": [
        "sns.heatmap(df_train.corr(), annot=True);"
      ],
      "metadata": {
        "colab": {
          "base_uri": "https://localhost:8080/",
          "height": 320
        },
        "id": "EeGBk9Up3ODQ",
        "outputId": "d07fd249-ed4a-46c7-9187-f15c64a40565"
      },
      "execution_count": null,
      "outputs": [
        {
          "output_type": "display_data",
          "data": {
            "text/plain": [
              "<Figure size 432x288 with 2 Axes>"
            ],
            "image/png": "[encoded data removed]"
          },
          "metadata": {
            "needs_background": "light"
          }
        }
      ]
    },
    {
      "cell_type": "code",
      "source": [
        "def transformar_sexo(valor):\n",
        "  if valor == 'female':\n",
        "    return 1\n",
        "  else:\n",
        "    return 0\n",
        "\n",
        "df_train['Sex_binario'] = df_train['Sex'].map(transformar_sexo)\n",
        "df_test['Sex_binario'] = df_test['Sex'].map(transformar_sexo)"
      ],
      "metadata": {
        "id": "BbVEfEdDvjrn"
      },
      "execution_count": null,
      "outputs": []
    },
    {
      "cell_type": "code",
      "source": [
        "variaveis = ['Sex_binario', 'Age', 'Fare', 'Parch', 'Pclass', 'SibSp']"
      ],
      "metadata": {
        "id": "dxdKwlWowF1s"
      },
      "execution_count": null,
      "outputs": []
    },
    {
      "cell_type": "code",
      "source": [
        "x = df_train[variaveis]\n",
        "y = df_train['Survived']"
      ],
      "metadata": {
        "id": "aYOcQFYwwIeL"
      },
      "execution_count": null,
      "outputs": []
    },
    {
      "cell_type": "code",
      "source": [
        "x.isnull().sum()"
      ],
      "metadata": {
        "colab": {
          "base_uri": "https://localhost:8080/"
        },
        "id": "vrea8IfOBHRH",
        "outputId": "39407305-c689-4a8b-f75a-389b72e5ffe2"
      },
      "execution_count": null,
      "outputs": [
        {
          "output_type": "execute_result",
          "data": {
            "text/plain": [
              "Sex_binario    0\n",
              "Age            0\n",
              "Fare           0\n",
              "Parch          0\n",
              "Pclass         0\n",
              "SibSp          0\n",
              "dtype: int64"
            ]
          },
          "metadata": {},
          "execution_count": 48
        }
      ]
    },
    {
      "cell_type": "code",
      "source": [
        "x['Age'].fillna(x['Age'].mean(), inplace=True)"
      ],
      "metadata": {
        "id": "BRdZ4F_fAyAZ"
      },
      "execution_count": null,
      "outputs": []
    },
    {
      "cell_type": "code",
      "source": [
        "x_prev = df_test[variaveis]"
      ],
      "metadata": {
        "id": "bwcHQvC2xB45"
      },
      "execution_count": null,
      "outputs": []
    },
    {
      "cell_type": "code",
      "source": [
        "x_prev.isnull().sum()"
      ],
      "metadata": {
        "colab": {
          "base_uri": "https://localhost:8080/"
        },
        "id": "vr_BjjxpUwQd",
        "outputId": "6efafa0b-4af8-4a9a-cf05-e6b2be414d2f"
      },
      "execution_count": null,
      "outputs": [
        {
          "output_type": "execute_result",
          "data": {
            "text/plain": [
              "Sex_binario     0\n",
              "Age            86\n",
              "Fare            1\n",
              "Parch           0\n",
              "Pclass          0\n",
              "SibSp           0\n",
              "dtype: int64"
            ]
          },
          "metadata": {},
          "execution_count": 47
        }
      ]
    },
    {
      "cell_type": "code",
      "source": [
        "x_prev['Age'].fillna(x_prev['Age'].mean(), inplace=True)"
      ],
      "metadata": {
        "id": "Y78KHxHJxL19"
      },
      "execution_count": null,
      "outputs": []
    },
    {
      "cell_type": "code",
      "source": [
        "x_prev['Fare'].fillna(x_prev['Fare'].mean(), inplace=True)"
      ],
      "metadata": {
        "id": "jVfp25cnC9wr"
      },
      "execution_count": null,
      "outputs": []
    },
    {
      "cell_type": "code",
      "source": [
        "x_prev.isnull().sum()"
      ],
      "metadata": {
        "colab": {
          "base_uri": "https://localhost:8080/"
        },
        "id": "09BlHFgIAMu8",
        "outputId": "e07fe6ec-7baa-4c35-eaa7-1b76aac20868"
      },
      "execution_count": null,
      "outputs": [
        {
          "output_type": "execute_result",
          "data": {
            "text/plain": [
              "Sex_binario    0\n",
              "Age            0\n",
              "Fare           0\n",
              "Parch          0\n",
              "Pclass         0\n",
              "SibSp          0\n",
              "dtype: int64"
            ]
          },
          "metadata": {},
          "execution_count": 51
        }
      ]
    },
    {
      "cell_type": "code",
      "source": [
        "x_treinamento, x_teste, y_treinamento, y_teste = train_test_split(x, y, test_size = 0.25, random_state = 0)"
      ],
      "metadata": {
        "id": "L349vp2ZRPUR"
      },
      "execution_count": null,
      "outputs": []
    },
    {
      "cell_type": "code",
      "source": [
        "x_treinamento.shape, y_treinamento.shape, x_teste.shape, y_teste.shape"
      ],
      "metadata": {
        "colab": {
          "base_uri": "https://localhost:8080/"
        },
        "id": "LWyPUXq5Rqgd",
        "outputId": "c73d705d-3a4b-4bd0-af3b-ee31a0e5edcb"
      },
      "execution_count": null,
      "outputs": [
        {
          "output_type": "execute_result",
          "data": {
            "text/plain": [
              "((668, 6), (668,), (223, 6), (223,))"
            ]
          },
          "metadata": {},
          "execution_count": 53
        }
      ]
    },
    {
      "cell_type": "code",
      "source": [
        "from sklearn import preprocessing\n",
        "from sklearn.metrics import accuracy_score, classification_report"
      ],
      "metadata": {
        "id": "Z-6y3JwmlbjD"
      },
      "execution_count": null,
      "outputs": []
    },
    {
      "cell_type": "code",
      "source": [
        "scaler_x = preprocessing.StandardScaler().fit(x)\n",
        "scaler_x_prev = preprocessing.StandardScaler().fit(x_prev)\n",
        "\n",
        "x_treinamento = scaler_x.transform(x_treinamento)\n",
        "x_teste = scaler_x.transform(x_teste)\n",
        "x_prev_scaled = scaler_x.transform(x_prev)"
      ],
      "metadata": {
        "id": "HQeLOB2B6e4K"
      },
      "execution_count": null,
      "outputs": []
    },
    {
      "cell_type": "code",
      "source": [
        "x_treinamento.shape, y_treinamento.shape, x_teste.shape, y_teste.shape, x_prev_scaled.shape"
      ],
      "metadata": {
        "id": "mgDaSBgsVMrB",
        "colab": {
          "base_uri": "https://localhost:8080/"
        },
        "outputId": "5f618232-2dff-4ba5-ab6f-c9149cc0c381"
      },
      "execution_count": null,
      "outputs": [
        {
          "output_type": "execute_result",
          "data": {
            "text/plain": [
              "((668, 6), (668,), (223, 6), (223,), (418, 6))"
            ]
          },
          "metadata": {},
          "execution_count": 55
        }
      ]
    },
    {
      "cell_type": "code",
      "source": [
        "x_treinamento.shape, y_treinamento.shape, x_teste.shape, y_teste.shape, x_prev_scaled.shape"
      ],
      "metadata": {
        "colab": {
          "base_uri": "https://localhost:8080/"
        },
        "id": "MMX-fdOMTUa5",
        "outputId": "269ffe00-6c7c-45cf-8c6d-566904cf54d6"
      },
      "execution_count": null,
      "outputs": [
        {
          "output_type": "execute_result",
          "data": {
            "text/plain": [
              "((668, 6), (668, 1), (223, 6), (223, 1), (418, 6))"
            ]
          },
          "metadata": {},
          "execution_count": 34
        }
      ]
    },
    {
      "cell_type": "markdown",
      "source": [
        "# Random Forest"
      ],
      "metadata": {
        "id": "vNM1CUW3y3YR"
      }
    },
    {
      "cell_type": "code",
      "source": [
        "from sklearn.ensemble import RandomForestClassifier\n",
        "modelo = RandomForestClassifier(criterion='entropy', min_samples_leaf=1, min_samples_split=10, n_estimators=150)"
      ],
      "metadata": {
        "id": "Bo_rRVmeu5m-"
      },
      "execution_count": null,
      "outputs": []
    },
    {
      "cell_type": "code",
      "source": [
        "modelo.fit(x_treinamento, y_treinamento)"
      ],
      "metadata": {
        "colab": {
          "base_uri": "https://localhost:8080/"
        },
        "id": "sjvGbIgmwxzY",
        "outputId": "fbef5cc4-5df2-4eb7-c672-d41640869eb1"
      },
      "execution_count": null,
      "outputs": [
        {
          "output_type": "execute_result",
          "data": {
            "text/plain": [
              "RandomForestClassifier(criterion='entropy', min_samples_split=10,\n",
              "                       n_estimators=150)"
            ]
          },
          "metadata": {},
          "execution_count": 60
        }
      ]
    },
    {
      "cell_type": "code",
      "source": [
        "previsoes = modelo.predict(x_teste) #x_prev = 76.79%"
      ],
      "metadata": {
        "id": "hIyEIXPkxRx9"
      },
      "execution_count": null,
      "outputs": []
    },
    {
      "cell_type": "code",
      "source": [
        "accuracy_score(y_teste, previsoes)"
      ],
      "metadata": {
        "colab": {
          "base_uri": "https://localhost:8080/"
        },
        "id": "GPS1g_dbePEx",
        "outputId": "35a33adc-d748-472b-bf05-2f7f8c623cdf"
      },
      "execution_count": null,
      "outputs": [
        {
          "output_type": "execute_result",
          "data": {
            "text/plain": [
              "0.8565022421524664"
            ]
          },
          "metadata": {},
          "execution_count": 67
        }
      ]
    },
    {
      "cell_type": "code",
      "source": [
        "resposta = pd.Series(previsoes,index=df_test['PassengerId'], name='Survived');"
      ],
      "metadata": {
        "id": "kjYi4D4Oxai1"
      },
      "execution_count": null,
      "outputs": []
    },
    {
      "cell_type": "code",
      "source": [
        "resposta.to_csv('titanic_random_forest_scaledV4.csv', header=True)"
      ],
      "metadata": {
        "id": "aAY31h0Ux9Oo"
      },
      "execution_count": null,
      "outputs": []
    },
    {
      "cell_type": "code",
      "source": [
        "from sklearn.model_selection import GridSearchCV"
      ],
      "metadata": {
        "id": "04fya2U4zYig"
      },
      "execution_count": null,
      "outputs": []
    },
    {
      "cell_type": "code",
      "source": [
        "parametros_randomforest = {\n",
        "              'criterion': ['gini', 'entropy'],\n",
        "              'n_estimators': [10,40,100,150],\n",
        "              'min_samples_split': [2,5,10,50],\n",
        "              'min_samples_leaf': [1,5,10,50]\n",
        "              }"
      ],
      "metadata": {
        "id": "i_8_CNXBy1tp"
      },
      "execution_count": null,
      "outputs": []
    },
    {
      "cell_type": "code",
      "source": [
        "grid_search = GridSearchCV(estimator=RandomForestClassifier(), param_grid=parametros_randomforest)\n",
        "grid_search.fit(x_treinamento, y_treinamento)\n",
        "print(grid_search.best_params_, grid_search.best_score_)\n",
        "#{'criterion': 'gini', 'min_samples_leaf': 1, 'min_samples_split': 10, 'n_estimators': 10} 0.8092272926997678\n",
        "#{'criterion': 'entropy', 'min_samples_leaf': 1, 'min_samples_split': 10, 'n_estimators': 100} 0.8126043562864854\n",
        "#{'criterion': 'entropy', 'min_samples_leaf': 1, 'min_samples_split': 10, 'n_estimators': 150} 0.8373171803402171\n",
        "#{'criterion': 'entropy', 'min_samples_leaf': 1, 'min_samples_split': 10, 'n_estimators': 150} 0.8384407758458352\n",
        "#{'criterion': 'gini', 'min_samples_leaf': 5, 'min_samples_split': 5, 'n_estimators': 150} 0.827864437212434\n"
      ],
      "metadata": {
        "id": "dZObkOiqzc0j",
        "colab": {
          "base_uri": "https://localhost:8080/"
        },
        "outputId": "26de859b-9d65-42c9-98f8-396014b65014"
      },
      "execution_count": null,
      "outputs": [
        {
          "output_type": "stream",
          "name": "stdout",
          "text": [
            "{'criterion': 'gini', 'min_samples_leaf': 5, 'min_samples_split': 5, 'n_estimators': 150} 0.827864437212434\n"
          ]
        }
      ]
    },
    {
      "cell_type": "code",
      "source": [
        "from sklearn.model_selection import cross_val_score, KFold"
      ],
      "metadata": {
        "id": "vrvhlpAs1LsC"
      },
      "execution_count": null,
      "outputs": []
    },
    {
      "cell_type": "code",
      "source": [
        "resultado_random_forest = []\n",
        "for i in range(30):\n",
        "  kfold = KFold(n_splits=10, shuffle=True, random_state=i)\n",
        "  random_forest = RandomForestClassifier(criterion='gini', min_samples_leaf=1, min_samples_split=10, n_estimators=10)\n",
        "  score = cross_val_score(random_forest, x_scaled,y,cv=kfold)\n",
        "  resultado_random_forest.append(score.mean())"
      ],
      "metadata": {
        "id": "xdqYLdNi1P9t"
      },
      "execution_count": null,
      "outputs": []
    },
    {
      "cell_type": "code",
      "source": [
        "resultado_random_forest = pd.DataFrame({'Random Forest': resultado_random_forest})"
      ],
      "metadata": {
        "id": "f0AsaZ8B2Nj_"
      },
      "execution_count": null,
      "outputs": []
    },
    {
      "cell_type": "code",
      "source": [
        "resultado_random_forest.describe()"
      ],
      "metadata": {
        "colab": {
          "base_uri": "https://localhost:8080/",
          "height": 300
        },
        "id": "mgQrvHkH2ec5",
        "outputId": "eebb08cb-d3b2-43d0-bd80-ba86f92a58f8"
      },
      "execution_count": null,
      "outputs": [
        {
          "output_type": "execute_result",
          "data": {
            "text/plain": [
              "       Random Forest\n",
              "count      30.000000\n",
              "mean        0.793495\n",
              "std         0.007273\n",
              "min         0.777740\n",
              "25%         0.788727\n",
              "50%         0.793533\n",
              "75%         0.797400\n",
              "max         0.811511"
            ],
            "text/html": [
              "\n",
              "  <div id=\"df-33d8d9dd-9fb1-49d9-baef-d207414ff8a9\">\n",
              "    <div class=\"colab-df-container\">\n",
              "      <div>\n",
              "<style scoped>\n",
              "    .dataframe tbody tr th:only-of-type {\n",
              "        vertical-align: middle;\n",
              "    }\n",
              "\n",
              "    .dataframe tbody tr th {\n",
              "        vertical-align: top;\n",
              "    }\n",
              "\n",
              "    .dataframe thead th {\n",
              "        text-align: right;\n",
              "    }\n",
              "</style>\n",
              "<table border=\"1\" class=\"dataframe\">\n",
              "  <thead>\n",
              "    <tr style=\"text-align: right;\">\n",
              "      <th></th>\n",
              "      <th>Random Forest</th>\n",
              "    </tr>\n",
              "  </thead>\n",
              "  <tbody>\n",
              "    <tr>\n",
              "      <th>count</th>\n",
              "      <td>30.000000</td>\n",
              "    </tr>\n",
              "    <tr>\n",
              "      <th>mean</th>\n",
              "      <td>0.793495</td>\n",
              "    </tr>\n",
              "    <tr>\n",
              "      <th>std</th>\n",
              "      <td>0.007273</td>\n",
              "    </tr>\n",
              "    <tr>\n",
              "      <th>min</th>\n",
              "      <td>0.777740</td>\n",
              "    </tr>\n",
              "    <tr>\n",
              "      <th>25%</th>\n",
              "      <td>0.788727</td>\n",
              "    </tr>\n",
              "    <tr>\n",
              "      <th>50%</th>\n",
              "      <td>0.793533</td>\n",
              "    </tr>\n",
              "    <tr>\n",
              "      <th>75%</th>\n",
              "      <td>0.797400</td>\n",
              "    </tr>\n",
              "    <tr>\n",
              "      <th>max</th>\n",
              "      <td>0.811511</td>\n",
              "    </tr>\n",
              "  </tbody>\n",
              "</table>\n",
              "</div>\n",
              "      <button class=\"colab-df-convert\" onclick=\"convertToInteractive('df-33d8d9dd-9fb1-49d9-baef-d207414ff8a9')\"\n",
              "              title=\"Convert this dataframe to an interactive table.\"\n",
              "              style=\"display:none;\">\n",
              "        \n",
              "  <svg xmlns=\"http://www.w3.org/2000/svg\" height=\"24px\"viewBox=\"0 0 24 24\"\n",
              "       width=\"24px\">\n",
              "    <path d=\"M0 0h24v24H0V0z\" fill=\"none\"/>\n",
              "    <path d=\"M18.56 5.44l.94 2.06.94-2.06 2.06-.94-2.06-.94-.94-2.06-.94 2.06-2.06.94zm-11 1L8.5 8.5l.94-2.06 2.06-.94-2.06-.94L8.5 2.5l-.94 2.06-2.06.94zm10 10l.94 2.06.94-2.06 2.06-.94-2.06-.94-.94-2.06-.94 2.06-2.06.94z\"/><path d=\"M17.41 7.96l-1.37-1.37c-.4-.4-.92-.59-1.43-.59-.52 0-1.04.2-1.43.59L10.3 9.45l-7.72 7.72c-.78.78-.78 2.05 0 2.83L4 21.41c.39.39.9.59 1.41.59.51 0 1.02-.2 1.41-.59l7.78-7.78 2.81-2.81c.8-.78.8-2.07 0-2.86zM5.41 20L4 18.59l7.72-7.72 1.47 1.35L5.41 20z\"/>\n",
              "  </svg>\n",
              "      </button>\n",
              "      \n",
              "  <style>\n",
              "    .colab-df-container {\n",
              "      display:flex;\n",
              "      flex-wrap:wrap;\n",
              "      gap: 12px;\n",
              "    }\n",
              "\n",
              "    .colab-df-convert {\n",
              "      background-color: #E8F0FE;\n",
              "      border: none;\n",
              "      border-radius: 50%;\n",
              "      cursor: pointer;\n",
              "      display: none;\n",
              "      fill: #1967D2;\n",
              "      height: 32px;\n",
              "      padding: 0 0 0 0;\n",
              "      width: 32px;\n",
              "    }\n",
              "\n",
              "    .colab-df-convert:hover {\n",
              "      background-color: #E2EBFA;\n",
              "      box-shadow: 0px 1px 2px rgba(60, 64, 67, 0.3), 0px 1px 3px 1px rgba(60, 64, 67, 0.15);\n",
              "      fill: #174EA6;\n",
              "    }\n",
              "\n",
              "    [theme=dark] .colab-df-convert {\n",
              "      background-color: #3B4455;\n",
              "      fill: #D2E3FC;\n",
              "    }\n",
              "\n",
              "    [theme=dark] .colab-df-convert:hover {\n",
              "      background-color: #434B5C;\n",
              "      box-shadow: 0px 1px 3px 1px rgba(0, 0, 0, 0.15);\n",
              "      filter: drop-shadow(0px 1px 2px rgba(0, 0, 0, 0.3));\n",
              "      fill: #FFFFFF;\n",
              "    }\n",
              "  </style>\n",
              "\n",
              "      <script>\n",
              "        const buttonEl =\n",
              "          document.querySelector('#df-33d8d9dd-9fb1-49d9-baef-d207414ff8a9 button.colab-df-convert');\n",
              "        buttonEl.style.display =\n",
              "          google.colab.kernel.accessAllowed ? 'block' : 'none';\n",
              "\n",
              "        async function convertToInteractive(key) {\n",
              "          const element = document.querySelector('#df-33d8d9dd-9fb1-49d9-baef-d207414ff8a9');\n",
              "          const dataTable =\n",
              "            await google.colab.kernel.invokeFunction('convertToInteractive',\n",
              "                                                     [key], {});\n",
              "          if (!dataTable) return;\n",
              "\n",
              "          const docLinkHtml = 'Like what you see? Visit the ' +\n",
              "            '<a target=\"_blank\" href=https://colab.research.google.com/notebooks/data_table.ipynb>data table notebook</a>'\n",
              "            + ' to learn more about interactive tables.';\n",
              "          element.innerHTML = '';\n",
              "          dataTable['output_type'] = 'display_data';\n",
              "          await google.colab.output.renderOutput(dataTable, element);\n",
              "          const docLink = document.createElement('div');\n",
              "          docLink.innerHTML = docLinkHtml;\n",
              "          element.appendChild(docLink);\n",
              "        }\n",
              "      </script>\n",
              "    </div>\n",
              "  </div>\n",
              "  "
            ]
          },
          "metadata": {},
          "execution_count": 119
        }
      ]
    },
    {
      "cell_type": "markdown",
      "source": [
        "# RNA"
      ],
      "metadata": {
        "id": "6oGOaVPA4eN5"
      }
    },
    {
      "cell_type": "code",
      "source": [
        "from sklearn.neural_network import MLPClassifier"
      ],
      "metadata": {
        "id": "8r8t-Ezh4jCg"
      },
      "execution_count": null,
      "outputs": []
    },
    {
      "cell_type": "code",
      "source": [
        "parametros_rna = {\n",
        "    'activation': ['relu', 'logistic', 'tanh', 'identity'],\n",
        "    'solver': ['adam', 'sgd', 'lbfgs'],\n",
        "    'batch_size': [10, 56],\n",
        "    'learning_rate': ['constant', 'invscaling', 'adaptive'],\n",
        "    'max_iter': [200,500,1000]\n",
        "}"
      ],
      "metadata": {
        "id": "N8bFf06s4mh3"
      },
      "execution_count": null,
      "outputs": []
    },
    {
      "cell_type": "code",
      "source": [
        "grid_search = GridSearchCV(estimator=MLPClassifier(), param_grid=parametros_rna)\n",
        "grid_search.fit(x_scaled,y)\n",
        "print(grid_search.best_params_, grid_search.best_score_)\n",
        "#{'activation': 'logistic', 'batch_size': 10, 'learning_rate': 'adaptive', 'max_iter': 1000, 'solver': 'lbfgs'} 0.7990772707300233\n",
        "#{'activation': 'relu', 'batch_size': 56, 'learning_rate': 'adaptive', 'max_iter': 1000, 'solver': 'adam'} 0.7979787835038604\n",
        "#{'activation': 'relu', 'batch_size': 56, 'learning_rate': 'adaptive', 'max_iter': 200, 'solver': 'adam'} 0.7923859142552258\n"
      ],
      "metadata": {
        "id": "6tHONnzC4xeK"
      },
      "execution_count": null,
      "outputs": []
    },
    {
      "cell_type": "code",
      "source": [
        "modelo_rna = MLPClassifier(activation='logistic', batch_size=10, learning_rate='adaptive', max_iter=1000, solver='lbfgs', hidden_layer_sizes=(3,3))"
      ],
      "metadata": {
        "id": "_s-V2uqF_Ha2"
      },
      "execution_count": null,
      "outputs": []
    },
    {
      "cell_type": "code",
      "source": [
        "modelo_rna.fit(x_scaled,y)"
      ],
      "metadata": {
        "colab": {
          "base_uri": "https://localhost:8080/"
        },
        "id": "Rj98_t8__V2d",
        "outputId": "81733f17-0c4b-4bd5-c4ac-aeac315db5b1"
      },
      "execution_count": null,
      "outputs": [
        {
          "output_type": "execute_result",
          "data": {
            "text/plain": [
              "MLPClassifier(activation='logistic', batch_size=10, hidden_layer_sizes=(3, 3),\n",
              "              learning_rate='adaptive', max_iter=1000, solver='lbfgs')"
            ]
          },
          "metadata": {},
          "execution_count": 70
        }
      ]
    },
    {
      "cell_type": "code",
      "source": [
        "previsoes_rna = modelo_rna.predict(x_prev_scaled)"
      ],
      "metadata": {
        "id": "EuuXHE9Y_a1L"
      },
      "execution_count": null,
      "outputs": []
    },
    {
      "cell_type": "code",
      "source": [
        "resposta_rna = pd.Series(previsoes_rna,index=df_test['PassengerId'], name='Survived');"
      ],
      "metadata": {
        "id": "bbabH8Dn_qhy"
      },
      "execution_count": null,
      "outputs": []
    },
    {
      "cell_type": "code",
      "source": [
        "resposta_rna.to_csv('titanic_rna.csv', header=True)"
      ],
      "metadata": {
        "id": "I2fKBIlp_10-"
      },
      "execution_count": null,
      "outputs": []
    },
    {
      "cell_type": "markdown",
      "source": [
        "# kNN"
      ],
      "metadata": {
        "id": "J9nhwc9OKZJW"
      }
    },
    {
      "cell_type": "code",
      "source": [
        "from sklearn.neighbors import KNeighborsClassifier"
      ],
      "metadata": {
        "id": "RUmpyF95KfIg"
      },
      "execution_count": null,
      "outputs": []
    },
    {
      "cell_type": "code",
      "source": [
        "parametros_knn = {\n",
        "    'p': [1,2],\n",
        "    'n_neighbors': [3,5,10,20],\n",
        "    'weights': ['uniform', 'distance'],\n",
        "    'leaf_size': [10,20,30,40,50]\n",
        "}"
      ],
      "metadata": {
        "id": "kqa7OfCdKotP"
      },
      "execution_count": null,
      "outputs": []
    },
    {
      "cell_type": "code",
      "source": [
        "grid_search = GridSearchCV(estimator=KNeighborsClassifier(n_jobs=-1), param_grid=parametros_knn)\n",
        "grid_search.fit(x_scaled, y)\n",
        "print(grid_search.best_params_, grid_search.best_score_)\n",
        "#\n",
        "#{'n_neighbors': 5, 'p': 1, 'weights': 'uniform'} 0.7834285355596008\n",
        "#{'leaf_size': 10, 'n_neighbors': 20, 'p': 1, 'weights': 'uniform'} 0.7811374050593184\n"
      ],
      "metadata": {
        "colab": {
          "base_uri": "https://localhost:8080/"
        },
        "id": "ccjb3oimKrI8",
        "outputId": "81aed7e7-6453-4dfa-c92b-e00a6c7c8849"
      },
      "execution_count": null,
      "outputs": [
        {
          "output_type": "stream",
          "name": "stdout",
          "text": [
            "{'leaf_size': 10, 'n_neighbors': 20, 'p': 1, 'weights': 'uniform'} 0.7811374050593184\n"
          ]
        }
      ]
    },
    {
      "cell_type": "markdown",
      "source": [
        "# SVM"
      ],
      "metadata": {
        "id": "pn5DjJVBNqLo"
      }
    },
    {
      "cell_type": "code",
      "source": [
        "from sklearn.svm import SVC"
      ],
      "metadata": {
        "id": "PF26A-8FNrfl"
      },
      "execution_count": null,
      "outputs": []
    },
    {
      "cell_type": "code",
      "source": [
        "parametros_svm = {\n",
        "    'tol': [0.001, 0.0001, 0.00001],\n",
        "    'C': [1.0, 1.5, 2.0],\n",
        "    'kernel': ['rbf', 'linear', 'poly', 'sigmoid'],\n",
        "    'degree': [1,2,3,4,5],\n",
        "    'gamma': ['scale', 'auto']\n",
        "}"
      ],
      "metadata": {
        "id": "DB6DNWp_Ntth"
      },
      "execution_count": null,
      "outputs": []
    },
    {
      "cell_type": "code",
      "source": [
        "grid_search = GridSearchCV(estimator=SVC(), param_grid=parametros_svm)\n",
        "grid_search.fit(x_scaled, y)\n",
        "print(grid_search.best_params_, grid_search.best_score_)\n",
        "#\n",
        "#{'C': 1.0, 'degree': 1, 'gamma': 'auto', 'kernel': 'rbf', 'tol': 0.0001} 0.7923608059757706\n",
        "#{'C': 1.5, 'degree': 1, 'gamma': 'scale', 'kernel': 'rbf', 'tol': 0.001} 0.7979787835038604\n"
      ],
      "metadata": {
        "colab": {
          "base_uri": "https://localhost:8080/"
        },
        "id": "16865tFQNxEX",
        "outputId": "caf249c6-81c2-4dc8-e8ce-58d83a609b18"
      },
      "execution_count": null,
      "outputs": [
        {
          "output_type": "stream",
          "name": "stdout",
          "text": [
            "{'C': 1.5, 'degree': 1, 'gamma': 'scale', 'kernel': 'rbf', 'tol': 0.001} 0.7979787835038604\n"
          ]
        }
      ]
    },
    {
      "cell_type": "markdown",
      "source": [
        "# Rede Neural com Tensorflow"
      ],
      "metadata": {
        "id": "Xh1FlRaWDZZx"
      }
    },
    {
      "cell_type": "code",
      "source": [
        "import tensorflow as tf\n",
        "import matplotlib.pyplot as plt"
      ],
      "metadata": {
        "id": "JerUrnbODb-I"
      },
      "execution_count": null,
      "outputs": []
    },
    {
      "cell_type": "code",
      "source": [
        "def plot_loss(history):\n",
        "  plt.plot(history.history['loss'], label='loss')\n",
        "  plt.xlabel('Epoch')\n",
        "  plt.ylabel('Binary crossentropy')\n",
        "  plt.legend()\n",
        "  plt.grid(True)\n",
        "  plt.show()\n",
        "\n",
        "def plot_accuracy(history):\n",
        "  plt.plot(history.history['accuracy'], label='accuracy')\n",
        "  plt.xlabel('Epoch')\n",
        "  plt.ylabel('Accuracy')\n",
        "  plt.legend()\n",
        "  plt.grid(True)\n",
        "  plt.show()"
      ],
      "metadata": {
        "id": "iX_Q09r6G53v"
      },
      "execution_count": null,
      "outputs": []
    },
    {
      "cell_type": "code",
      "source": [
        "def train_model(x, y, num_nodes, dropout_prob, lr, bs, epochs):\n",
        "  nn_model = tf.keras.Sequential([\n",
        "      tf.keras.layers.Dense(num_nodes, activation='relu'),\n",
        "      tf.keras.layers.Dropout(dropout_prob),\n",
        "      tf.keras.layers.Dense(num_nodes, activation='relu'),\n",
        "      tf.keras.layers.Dropout(dropout_prob),\n",
        "      tf.keras.layers.Dense(1, activation='sigmoid')\n",
        "  ])\n",
        "  nn_model.compile(optimizer=tf.keras.optimizers.Adam(), loss='binary_crossentropy', metrics=['accuracy'])\n",
        "  history = nn_model.fit(x,y, epochs=epochs, batch_size=bs)\n",
        "  return nn_model, history"
      ],
      "metadata": {
        "id": "cQe8FmblDgmC"
      },
      "execution_count": null,
      "outputs": []
    },
    {
      "cell_type": "code",
      "source": [
        "epochs=100\n",
        "for num_nodes in [32,64,128]:\n",
        "  for dropout_prob in [0, 0.1, 0.2]:\n",
        "    for lr in [0.001, 0.0001, 0.00001]:\n",
        "      for bs in [32, 64, 128]:\n",
        "        print(f\"{num_nodes} nodes, dropout{dropout_prob}, lr{lr}, bs{bs}\")\n",
        "        model, history = train_model(x_scaled, y, num_nodes, dropout_prob, lr, bs, epochs)"
      ],
      "metadata": {
        "id": "O3meiBChJXE6"
      },
      "execution_count": null,
      "outputs": []
    },
    {
      "cell_type": "code",
      "source": [
        "previsoes_tf = nn_model.predict(x_prev_scaled)"
      ],
      "metadata": {
        "colab": {
          "base_uri": "https://localhost:8080/"
        },
        "id": "xEneiWMsFI9a",
        "outputId": "2ab5a8f4-f0e4-4217-eab1-031fc1bc1e6b"
      },
      "execution_count": null,
      "outputs": [
        {
          "output_type": "stream",
          "name": "stdout",
          "text": [
            "14/14 [==============================] - 0s 4ms/step\n"
          ]
        }
      ]
    },
    {
      "cell_type": "code",
      "source": [
        "previsoes_tf = (previsoes_tf > 0.5).astype(int).reshape(-1)"
      ],
      "metadata": {
        "id": "5gFjX44SFNUK"
      },
      "execution_count": null,
      "outputs": []
    },
    {
      "cell_type": "code",
      "source": [
        "resposta_tf = pd.Series(previsoes_tf,index=df_test['PassengerId'], name='Survived');"
      ],
      "metadata": {
        "id": "8U_9nGnlGCLn"
      },
      "execution_count": null,
      "outputs": []
    },
    {
      "cell_type": "code",
      "source": [
        "resposta_tf.to_csv('titanic_tf.csv', header=True)"
      ],
      "metadata": {
        "id": "vf3gHQ6oGMFi"
      },
      "execution_count": null,
      "outputs": []
    }
  ]
}